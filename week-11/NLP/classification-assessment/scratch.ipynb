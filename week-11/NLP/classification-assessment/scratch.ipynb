{
 "cells": [
  {
   "cell_type": "code",
   "execution_count": 118,
   "metadata": {},
   "outputs": [
    {
     "name": "stdout",
     "output_type": "stream",
     "text": [
      "(10682, 7)\n"
     ]
    },
    {
     "data": {
      "text/html": [
       "<div>\n",
       "<style scoped>\n",
       "    .dataframe tbody tr th:only-of-type {\n",
       "        vertical-align: middle;\n",
       "    }\n",
       "\n",
       "    .dataframe tbody tr th {\n",
       "        vertical-align: top;\n",
       "    }\n",
       "\n",
       "    .dataframe thead th {\n",
       "        text-align: right;\n",
       "    }\n",
       "</style>\n",
       "<table border=\"1\" class=\"dataframe\">\n",
       "  <thead>\n",
       "    <tr style=\"text-align: right;\">\n",
       "      <th></th>\n",
       "      <th>ID</th>\n",
       "      <th>Release Year</th>\n",
       "      <th>Title</th>\n",
       "      <th>Plot</th>\n",
       "      <th>Director</th>\n",
       "      <th>Cast</th>\n",
       "      <th>Genre</th>\n",
       "    </tr>\n",
       "  </thead>\n",
       "  <tbody>\n",
       "    <tr>\n",
       "      <td>0</td>\n",
       "      <td>10281</td>\n",
       "      <td>1984</td>\n",
       "      <td>Silent Madness</td>\n",
       "      <td>A computer error leads to the accidental relea...</td>\n",
       "      <td>Simon Nuchtern</td>\n",
       "      <td>Belinda Montgomery, Viveca Lindfors</td>\n",
       "      <td>horror</td>\n",
       "    </tr>\n",
       "    <tr>\n",
       "      <td>1</td>\n",
       "      <td>7341</td>\n",
       "      <td>1960</td>\n",
       "      <td>Desire in the Dust</td>\n",
       "      <td>Lonnie Wilson (Ken Scott), the son of a sharec...</td>\n",
       "      <td>Robert L. Lippert</td>\n",
       "      <td>Raymond Burr, Martha Hyer, Joan Bennett</td>\n",
       "      <td>drama</td>\n",
       "    </tr>\n",
       "    <tr>\n",
       "      <td>2</td>\n",
       "      <td>10587</td>\n",
       "      <td>1986</td>\n",
       "      <td>On the Edge</td>\n",
       "      <td>A gaunt, bushy-bearded, 44-year-old Wes Holman...</td>\n",
       "      <td>Rob Nilsson</td>\n",
       "      <td>Bruce Dern, Pam Grier</td>\n",
       "      <td>drama</td>\n",
       "    </tr>\n",
       "    <tr>\n",
       "      <td>3</td>\n",
       "      <td>25495</td>\n",
       "      <td>1988</td>\n",
       "      <td>Ram-Avtar</td>\n",
       "      <td>Ram and Avtar are both childhood best friends....</td>\n",
       "      <td>Sunil Hingorani</td>\n",
       "      <td>Sunny Deol, Anil Kapoor, Sridevi</td>\n",
       "      <td>drama</td>\n",
       "    </tr>\n",
       "    <tr>\n",
       "      <td>4</td>\n",
       "      <td>16607</td>\n",
       "      <td>2013</td>\n",
       "      <td>Machete Kills</td>\n",
       "      <td>Machete Cortez (Danny Trejo) and Sartana River...</td>\n",
       "      <td>Robert Rodriguez</td>\n",
       "      <td>Danny Trejo, Michelle Rodriguez, Sofía Vergara...</td>\n",
       "      <td>action</td>\n",
       "    </tr>\n",
       "  </tbody>\n",
       "</table>\n",
       "</div>"
      ],
      "text/plain": [
       "      ID  Release Year               Title  \\\n",
       "0  10281          1984      Silent Madness   \n",
       "1   7341          1960  Desire in the Dust   \n",
       "2  10587          1986         On the Edge   \n",
       "3  25495          1988           Ram-Avtar   \n",
       "4  16607          2013       Machete Kills   \n",
       "\n",
       "                                                Plot           Director  \\\n",
       "0  A computer error leads to the accidental relea...     Simon Nuchtern   \n",
       "1  Lonnie Wilson (Ken Scott), the son of a sharec...  Robert L. Lippert   \n",
       "2  A gaunt, bushy-bearded, 44-year-old Wes Holman...        Rob Nilsson   \n",
       "3  Ram and Avtar are both childhood best friends....    Sunil Hingorani   \n",
       "4  Machete Cortez (Danny Trejo) and Sartana River...   Robert Rodriguez   \n",
       "\n",
       "                                                Cast   Genre  \n",
       "0                Belinda Montgomery, Viveca Lindfors  horror  \n",
       "1            Raymond Burr, Martha Hyer, Joan Bennett   drama  \n",
       "2                              Bruce Dern, Pam Grier   drama  \n",
       "3                   Sunny Deol, Anil Kapoor, Sridevi   drama  \n",
       "4  Danny Trejo, Michelle Rodriguez, Sofía Vergara...  action  "
      ]
     },
     "execution_count": 118,
     "metadata": {},
     "output_type": "execute_result"
    }
   ],
   "source": [
    "import pandas as pd\n",
    "import text_processing as text\n",
    "from sklearn import metrics\n",
    "from sklearn.metrics import precision_score, accuracy_score, recall_score, f1_score\n",
    "from sklearn.model_selection import StratifiedKFold, cross_val_predict, cross_val_score\n",
    "from sklearn.feature_extraction.text import CountVectorizer, TfidfTransformer, TfidfVectorizer\n",
    "from sklearn.pipeline import Pipeline\n",
    "from sklearn.linear_model import SGDClassifier\n",
    "import numpy as np\n",
    "import matplotlib.pyplot as plt\n",
    "from sklearn.model_selection import GridSearchCV\n",
    "\n",
    "\n",
    "df = pd.read_csv(\"movie_train.csv\",index_col=0,)\n",
    "\n",
    "df.reset_index(drop=False,inplace=True)\n",
    "df.rename(mapper={'index':'ID'},axis=1,inplace=True)\n",
    "\n",
    "print(df.shape)\n",
    "\n",
    "df.head()\n",
    "\n",
    "\n"
   ]
  },
  {
   "cell_type": "code",
   "execution_count": 5,
   "metadata": {},
   "outputs": [],
   "source": [
    "skf = StratifiedKFold(n_splits=3)\n",
    "\n",
    "X = df['Plot']\n",
    "y = df['Genre']\n",
    "\n",
    "for train_index, test_index in skf.split(X, y):\n",
    "    X_train, X_test = X[train_index], X[test_index]\n",
    "    y_train, y_test = y[train_index], y[test_index]"
   ]
  },
  {
   "cell_type": "code",
   "execution_count": 7,
   "metadata": {},
   "outputs": [],
   "source": [
    "text_clf = Pipeline([\n",
    "     ('vect', CountVectorizer()),\n",
    "     ('tfidf', TfidfTransformer()),\n",
    "     ('clf', SGDClassifier(loss='hinge',penalty='l2',\n",
    "                           alpha=1e-3, random_state=42,\n",
    "                           n_jobs=-1)),\n",
    " ])"
   ]
  },
  {
   "cell_type": "code",
   "execution_count": 8,
   "metadata": {},
   "outputs": [
    {
     "name": "stdout",
     "output_type": "stream",
     "text": [
      "0.5657303370786517\n"
     ]
    }
   ],
   "source": [
    "text_clf.fit(X_train, y_train)\n",
    "predicted = text_clf.predict(X_test)\n",
    "print(np.mean(predicted == y_test))"
   ]
  },
  {
   "cell_type": "code",
   "execution_count": 9,
   "metadata": {},
   "outputs": [],
   "source": [
    "parameters = {\n",
    "     'vect__ngram_range': [(1, 1), (1, 2)],\n",
    "     'tfidf__use_idf': (True, False),\n",
    "     'clf__alpha': (1e-2, 1e-3),\n",
    " }"
   ]
  },
  {
   "cell_type": "code",
   "execution_count": 10,
   "metadata": {},
   "outputs": [],
   "source": [
    "# Create grid search \n",
    "scorer = metrics.make_scorer(metrics.f1_score, average = 'weighted')\n",
    "gs_clf = GridSearchCV(text_clf, parameters, cv=5, n_jobs=-1,scoring=scorer)"
   ]
  },
  {
   "cell_type": "code",
   "execution_count": 11,
   "metadata": {},
   "outputs": [],
   "source": [
    "gs_clf = gs_clf.fit(X_train, y_train)"
   ]
  },
  {
   "cell_type": "code",
   "execution_count": 16,
   "metadata": {},
   "outputs": [
    {
     "name": "stdout",
     "output_type": "stream",
     "text": [
      "0.5783707865168539\n"
     ]
    },
    {
     "data": {
      "text/html": [
       "<div>\n",
       "<style scoped>\n",
       "    .dataframe tbody tr th:only-of-type {\n",
       "        vertical-align: middle;\n",
       "    }\n",
       "\n",
       "    .dataframe tbody tr th {\n",
       "        vertical-align: top;\n",
       "    }\n",
       "\n",
       "    .dataframe thead th {\n",
       "        text-align: right;\n",
       "    }\n",
       "</style>\n",
       "<table border=\"1\" class=\"dataframe\">\n",
       "  <thead>\n",
       "    <tr style=\"text-align: right;\">\n",
       "      <th></th>\n",
       "      <th>action</th>\n",
       "      <th>adventure</th>\n",
       "      <th>comedy</th>\n",
       "      <th>crime</th>\n",
       "      <th>drama</th>\n",
       "      <th>horror</th>\n",
       "      <th>romance</th>\n",
       "      <th>thriller</th>\n",
       "      <th>western</th>\n",
       "      <th>accuracy</th>\n",
       "      <th>macro avg</th>\n",
       "      <th>weighted avg</th>\n",
       "    </tr>\n",
       "  </thead>\n",
       "  <tbody>\n",
       "    <tr>\n",
       "      <td>precision</td>\n",
       "      <td>0.581921</td>\n",
       "      <td>0.680000</td>\n",
       "      <td>0.590147</td>\n",
       "      <td>0.500000</td>\n",
       "      <td>0.536506</td>\n",
       "      <td>0.705263</td>\n",
       "      <td>0.447761</td>\n",
       "      <td>0.500000</td>\n",
       "      <td>0.801170</td>\n",
       "      <td>0.578371</td>\n",
       "      <td>0.593641</td>\n",
       "      <td>0.575588</td>\n",
       "    </tr>\n",
       "    <tr>\n",
       "      <td>recall</td>\n",
       "      <td>0.371841</td>\n",
       "      <td>0.154545</td>\n",
       "      <td>0.620044</td>\n",
       "      <td>0.036697</td>\n",
       "      <td>0.789809</td>\n",
       "      <td>0.717857</td>\n",
       "      <td>0.138889</td>\n",
       "      <td>0.052402</td>\n",
       "      <td>0.782857</td>\n",
       "      <td>0.578371</td>\n",
       "      <td>0.407216</td>\n",
       "      <td>0.578371</td>\n",
       "    </tr>\n",
       "    <tr>\n",
       "      <td>f1-score</td>\n",
       "      <td>0.453744</td>\n",
       "      <td>0.251852</td>\n",
       "      <td>0.604726</td>\n",
       "      <td>0.068376</td>\n",
       "      <td>0.638969</td>\n",
       "      <td>0.711504</td>\n",
       "      <td>0.212014</td>\n",
       "      <td>0.094862</td>\n",
       "      <td>0.791908</td>\n",
       "      <td>0.578371</td>\n",
       "      <td>0.425328</td>\n",
       "      <td>0.538709</td>\n",
       "    </tr>\n",
       "    <tr>\n",
       "      <td>support</td>\n",
       "      <td>277.000000</td>\n",
       "      <td>110.000000</td>\n",
       "      <td>908.000000</td>\n",
       "      <td>109.000000</td>\n",
       "      <td>1256.000000</td>\n",
       "      <td>280.000000</td>\n",
       "      <td>216.000000</td>\n",
       "      <td>229.000000</td>\n",
       "      <td>175.000000</td>\n",
       "      <td>0.578371</td>\n",
       "      <td>3560.000000</td>\n",
       "      <td>3560.000000</td>\n",
       "    </tr>\n",
       "  </tbody>\n",
       "</table>\n",
       "</div>"
      ],
      "text/plain": [
       "               action   adventure      comedy       crime        drama  \\\n",
       "precision    0.581921    0.680000    0.590147    0.500000     0.536506   \n",
       "recall       0.371841    0.154545    0.620044    0.036697     0.789809   \n",
       "f1-score     0.453744    0.251852    0.604726    0.068376     0.638969   \n",
       "support    277.000000  110.000000  908.000000  109.000000  1256.000000   \n",
       "\n",
       "               horror     romance    thriller     western  accuracy  \\\n",
       "precision    0.705263    0.447761    0.500000    0.801170  0.578371   \n",
       "recall       0.717857    0.138889    0.052402    0.782857  0.578371   \n",
       "f1-score     0.711504    0.212014    0.094862    0.791908  0.578371   \n",
       "support    280.000000  216.000000  229.000000  175.000000  0.578371   \n",
       "\n",
       "             macro avg  weighted avg  \n",
       "precision     0.593641      0.575588  \n",
       "recall        0.407216      0.578371  \n",
       "f1-score      0.425328      0.538709  \n",
       "support    3560.000000   3560.000000  "
      ]
     },
     "execution_count": 16,
     "metadata": {},
     "output_type": "execute_result"
    }
   ],
   "source": [
    "y_preds = gs_clf.predict(X_test)\n",
    "print(metrics.accuracy_score(y_test,y_preds))\n",
    "metrics.f1_score(y_test,y_preds,average='weighted')\n",
    "pd.DataFrame(metrics.classification_report(y_test,y_preds,output_dict=True))"
   ]
  },
  {
   "cell_type": "code",
   "execution_count": 18,
   "metadata": {},
   "outputs": [],
   "source": [
    "y_train_pred = cross_val_predict(gs_clf,X_train,y_train,cv=3)\n",
    "conf_matrix = metrics.confusion_matrix(y_train,y_train_pred)\n",
    "\n"
   ]
  },
  {
   "cell_type": "code",
   "execution_count": 19,
   "metadata": {},
   "outputs": [
    {
     "data": {
      "image/png": "[encoded data removed]",
      "text/plain": [
       "<Figure size 288x288 with 1 Axes>"
      ]
     },
     "metadata": {
      "needs_background": "light"
     },
     "output_type": "display_data"
    }
   ],
   "source": [
    "plt.matshow(conf_matrix,cmap=plt.cm.Blues)\n",
    "\n",
    "plt.show()"
   ]
  },
  {
   "cell_type": "code",
   "execution_count": 20,
   "metadata": {},
   "outputs": [],
   "source": [
    "import re, nltk, spacy, gensim"
   ]
  },
  {
   "cell_type": "code",
   "execution_count": 21,
   "metadata": {},
   "outputs": [],
   "source": [
    "# def doc_to_words(docs):\n",
    "#     for doc in docs:\n",
    "#         yield(gensim.utils.simple_preprocess(str(doc), deacc=True))\n",
    "        \n",
    "# def lemmatization(texts, allowed_postags=['NOUN', 'ADJ', 'VERB', 'ADV']):\n",
    "#     \"\"\"https://spacy.io/api/annotation\"\"\"\n",
    "#     texts_out = []\n",
    "#     nlp = spacy.load('en_core_web_sm', disable=['parser', 'ner'])\n",
    "#     for sent in texts:\n",
    "#         doc = nlp(\" \".join(sent)) \n",
    "#         texts_out.append(\" \".join([token.lemma_ if token.lemma_ not in ['-PRON-'] else '' for token in doc if token.pos_ in allowed_postags]))\n",
    "#     return texts_out\n",
    "\n",
    "# def pre_process(documents):\n",
    "#     return lemmatization(doc_to_words(documents))"
   ]
  },
  {
   "cell_type": "code",
   "execution_count": null,
   "metadata": {},
   "outputs": [],
   "source": []
  },
  {
   "cell_type": "code",
   "execution_count": 22,
   "metadata": {},
   "outputs": [],
   "source": [
    "df['Processed_Plot'] = pre_process(df['Plot'])"
   ]
  },
  {
   "cell_type": "code",
   "execution_count": 23,
   "metadata": {},
   "outputs": [],
   "source": [
    "## Trying the same thing again with a pre-processed corpus\n",
    "\n",
    "X = df['Processed_Plot']\n",
    "y = df['Genre']\n",
    "\n",
    "for train_index, test_index in skf.split(X, y):\n",
    "    X_train, X_test = X[train_index], X[test_index]\n",
    "    y_train, y_test = y[train_index], y[test_index]\n",
    "    \n",
    "text_clf = Pipeline([\n",
    "     ('vect', CountVectorizer()),\n",
    "     ('tfidf', TfidfTransformer()),\n",
    "     ('clf', SGDClassifier(loss='hinge',penalty='l2',\n",
    "                           alpha=1e-3, random_state=42,\n",
    "                           n_jobs=-1)),\n",
    " ])\n",
    "\n",
    "parameters = {\n",
    "     'vect__ngram_range': [(1, 1), (1, 2)],\n",
    "     'tfidf__use_idf': (True, False),\n",
    "     'clf__alpha': (1e-2, 1e-3),\n",
    " }\n",
    "\n",
    "gs_clf = GridSearchCV(text_clf, parameters, cv=5, n_jobs=-1,scoring=scorer)\n",
    "\n",
    "gs_clf = gs_clf.fit(X_train, y_train)\n",
    "\n",
    "y_preds = gs_clf.predict(X_test)"
   ]
  },
  {
   "cell_type": "code",
   "execution_count": 24,
   "metadata": {},
   "outputs": [
    {
     "data": {
      "text/plain": [
       "0.5571440313931317"
      ]
     },
     "execution_count": 24,
     "metadata": {},
     "output_type": "execute_result"
    }
   ],
   "source": [
    "metrics.f1_score(y_test,y_preds,average='weighted')"
   ]
  },
  {
   "cell_type": "code",
   "execution_count": 25,
   "metadata": {},
   "outputs": [
    {
     "data": {
      "text/plain": [
       "{'clf__alpha': 0.01, 'tfidf__use_idf': True, 'vect__ngram_range': (1, 2)}"
      ]
     },
     "execution_count": 25,
     "metadata": {},
     "output_type": "execute_result"
    }
   ],
   "source": [
    "gs_clf.best_params_"
   ]
  },
  {
   "cell_type": "code",
   "execution_count": 67,
   "metadata": {},
   "outputs": [],
   "source": [
    "from imblearn.pipeline import make_pipeline\n",
    "from imblearn.over_sampling import ADASYN, SMOTE, RandomOverSampler"
   ]
  },
  {
   "cell_type": "code",
   "execution_count": 99,
   "metadata": {},
   "outputs": [],
   "source": [
    "sm_pipeline = make_pipeline(CountVectorizer(),\n",
    "                            TfidfTransformer(),\n",
    "                            SMOTE(n_jobs=-1,random_state=42),\n",
    "                            SGDClassifier(n_jobs=-1,verbose=-1,random_state=42))"
   ]
  },
  {
   "cell_type": "code",
   "execution_count": 100,
   "metadata": {},
   "outputs": [
    {
     "data": {
      "text/plain": [
       "{'countvectorizer': CountVectorizer(analyzer='word', binary=False, decode_error='strict',\n",
       "                 dtype=<class 'numpy.int64'>, encoding='utf-8', input='content',\n",
       "                 lowercase=True, max_df=1.0, max_features=None, min_df=1,\n",
       "                 ngram_range=(1, 1), preprocessor=None, stop_words=None,\n",
       "                 strip_accents=None, token_pattern='(?u)\\\\b\\\\w\\\\w+\\\\b',\n",
       "                 tokenizer=None, vocabulary=None),\n",
       " 'tfidftransformer': TfidfTransformer(norm='l2', smooth_idf=True, sublinear_tf=False, use_idf=True),\n",
       " 'smote': SMOTE(k_neighbors=5, n_jobs=-1, random_state=42, sampling_strategy='auto'),\n",
       " 'sgdclassifier': SGDClassifier(alpha=0.0001, average=False, class_weight=None,\n",
       "               early_stopping=False, epsilon=0.1, eta0=0.0, fit_intercept=True,\n",
       "               l1_ratio=0.15, learning_rate='optimal', loss='hinge',\n",
       "               max_iter=1000, n_iter_no_change=5, n_jobs=-1, penalty='l2',\n",
       "               power_t=0.5, random_state=42, shuffle=True, tol=0.001,\n",
       "               validation_fraction=0.1, verbose=-1, warm_start=False)}"
      ]
     },
     "execution_count": 100,
     "metadata": {},
     "output_type": "execute_result"
    }
   ],
   "source": [
    "sm_pipeline.named_steps"
   ]
  },
  {
   "cell_type": "code",
   "execution_count": 105,
   "metadata": {},
   "outputs": [],
   "source": [
    "sm_params = {\n",
    "    'countvectorizer__ngram_range':[(1,1),(1,2)],\n",
    "    'countvectorizer__max_df':[1,.9],\n",
    "    'countvectorizer__min_df':[1,.9],\n",
    "    'tfidftransformer__use_idf':[True,False],\n",
    "    'tfidftransformer__smooth_idf':[True,False],\n",
    "    'sgdclassifier__alpha':[.0001,.001],\n",
    "    'sgdclassifier__loss':['hinge','log']\n",
    "}"
   ]
  },
  {
   "cell_type": "code",
   "execution_count": 106,
   "metadata": {},
   "outputs": [],
   "source": [
    "sm_search = GridSearchCV(sm_pipeline,sm_params,cv=5,n_jobs=-1,scoring=scorer,verbose=3)"
   ]
  },
  {
   "cell_type": "code",
   "execution_count": 107,
   "metadata": {},
   "outputs": [],
   "source": [
    "def pipeline_cv(splits, X, Y, pipeline, average_method):\n",
    "    \n",
    "    kfold = StratifiedKFold(n_splits=splits, shuffle=True, random_state=777)\n",
    "    accuracy = []\n",
    "    precision = []\n",
    "    recall = []\n",
    "    f1 = []\n",
    "    for train, test in kfold.split(X, Y):\n",
    "        lr_fit = pipeline.fit(X[train], Y[train])\n",
    "        prediction = lr_fit.predict(X[test])\n",
    "        scores = lr_fit.score(X[test],Y[test])\n",
    "        \n",
    "        accuracy.append(scores * 100)\n",
    "        precision.append(precision_score(Y[test], prediction, average=average_method)*100)\n",
    "        #print('              negative    neutral     positive')\n",
    "        print('precision:',precision_score(Y[test], prediction, average=None))\n",
    "        recall.append(recall_score(Y[test], prediction, average=average_method)*100)\n",
    "        print('recall:   ',recall_score(Y[test], prediction, average=None))\n",
    "        f1.append(f1_score(Y[test], prediction, average=average_method)*100)\n",
    "        print('f1 score: ',f1_score(Y[test], prediction, average=None))\n",
    "        print('-'*50)\n",
    "\n",
    "    print(\"accuracy: %.2f%% (+/- %.2f%%)\" % (np.mean(accuracy), np.std(accuracy)))\n",
    "    print(\"precision: %.2f%% (+/- %.2f%%)\" % (np.mean(precision), np.std(precision)))\n",
    "    print(\"recall: %.2f%% (+/- %.2f%%)\" % (np.mean(recall), np.std(recall)))\n",
    "    print(\"f1 score: %.2f%% (+/- %.2f%%)\" % (np.mean(f1), np.std(f1)))"
   ]
  },
  {
   "cell_type": "code",
   "execution_count": 108,
   "metadata": {},
   "outputs": [
    {
     "name": "stdout",
     "output_type": "stream",
     "text": [
      "Fitting 5 folds for each of 128 candidates, totalling 640 fits\n"
     ]
    },
    {
     "name": "stderr",
     "output_type": "stream",
     "text": [
      "[Parallel(n_jobs=-1)]: Using backend LokyBackend with 12 concurrent workers.\n",
      "[Parallel(n_jobs=-1)]: Done   8 tasks      | elapsed:    4.0s\n",
      "[Parallel(n_jobs=-1)]: Done 104 tasks      | elapsed:   59.9s\n",
      "//anaconda3/lib/python3.7/site-packages/joblib/externals/loky/process_executor.py:706: UserWarning: A worker stopped while some jobs were given to the executor. This can be caused by a too short worker timeout or by a memory leak.\n",
      "  \"timeout or by a memory leak.\", UserWarning\n",
      "[Parallel(n_jobs=-1)]: Done 264 tasks      | elapsed:  2.8min\n",
      "[Parallel(n_jobs=-1)]: Done 488 tasks      | elapsed: 10.1min\n",
      "[Parallel(n_jobs=-1)]: Done 640 out of 640 | elapsed: 11.4min finished\n",
      "[Parallel(n_jobs=-1)]: Using backend ThreadingBackend with 12 concurrent workers.\n"
     ]
    },
    {
     "name": "stdout",
     "output_type": "stream",
     "text": [
      "Convergence after 8 epochs took 3.24 seconds\n",
      "Convergence after 9 epochs took 3.60 seconds\n",
      "Convergence after 9 epochs took 3.69 seconds\n"
     ]
    },
    {
     "name": "stderr",
     "output_type": "stream",
     "text": [
      "[Parallel(n_jobs=-1)]: Done   2 out of   9 | elapsed:    3.6s remaining:   12.6s\n"
     ]
    },
    {
     "name": "stdout",
     "output_type": "stream",
     "text": [
      "Convergence after 10 epochs took 3.86 seconds\n",
      "Convergence after 10 epochs took 3.93 seconds\n",
      "Convergence after 11 epochs took 4.05 seconds\n",
      "Convergence after 11 epochs took 4.07 seconds\n",
      "Convergence after 12 epochs took 4.13 seconds\n",
      "Convergence after 13 epochs took 4.19 seconds\n"
     ]
    },
    {
     "name": "stderr",
     "output_type": "stream",
     "text": [
      "[Parallel(n_jobs=-1)]: Done   9 out of   9 | elapsed:    4.2s finished\n"
     ]
    },
    {
     "name": "stdout",
     "output_type": "stream",
     "text": [
      "precision: [0.45308311 0.47663551 0.62628337 0.39285714 0.69858871 0.61460957\n",
      " 0.41111111 0.37142857 0.69642857]\n",
      "recall:    [0.6101083  0.46363636 0.67180617 0.3        0.55131265 0.87142857\n",
      " 0.51388889 0.22807018 0.89142857]\n",
      "f1 score:  [0.52       0.47004608 0.64824655 0.34020619 0.6162739  0.72082718\n",
      " 0.45679012 0.2826087  0.78195489]\n",
      "--------------------------------------------------\n",
      "Fitting 5 folds for each of 128 candidates, totalling 640 fits\n"
     ]
    },
    {
     "name": "stderr",
     "output_type": "stream",
     "text": [
      "[Parallel(n_jobs=-1)]: Using backend LokyBackend with 12 concurrent workers.\n",
      "[Parallel(n_jobs=-1)]: Done   8 tasks      | elapsed:    2.7s\n",
      "[Parallel(n_jobs=-1)]: Done 104 tasks      | elapsed:   59.9s\n",
      "//anaconda3/lib/python3.7/site-packages/joblib/externals/loky/process_executor.py:706: UserWarning: A worker stopped while some jobs were given to the executor. This can be caused by a too short worker timeout or by a memory leak.\n",
      "  \"timeout or by a memory leak.\", UserWarning\n",
      "[Parallel(n_jobs=-1)]: Done 264 tasks      | elapsed:  2.8min\n",
      "[Parallel(n_jobs=-1)]: Done 488 tasks      | elapsed: 10.5min\n",
      "[Parallel(n_jobs=-1)]: Done 640 out of 640 | elapsed: 12.0min finished\n",
      "[Parallel(n_jobs=-1)]: Using backend ThreadingBackend with 12 concurrent workers.\n"
     ]
    },
    {
     "name": "stdout",
     "output_type": "stream",
     "text": [
      "Convergence after 8 epochs took 3.39 seconds\n",
      "Convergence after 9 epochs took 3.78 seconds\n",
      "Convergence after 9 epochs took 3.83 seconds\n"
     ]
    },
    {
     "name": "stderr",
     "output_type": "stream",
     "text": [
      "[Parallel(n_jobs=-1)]: Done   2 out of   9 | elapsed:    3.8s remaining:   13.4s\n"
     ]
    },
    {
     "name": "stdout",
     "output_type": "stream",
     "text": [
      "Convergence after 10 epochs took 4.12 seconds\n",
      "Convergence after 11 epochs took 4.21 seconds\n",
      "Convergence after 11 epochs took 4.20 seconds\n",
      "Convergence after 11 epochs took 4.30 seconds\n",
      "Convergence after 12 epochs took 4.33 seconds\n",
      "Convergence after 13 epochs took 4.39 seconds\n"
     ]
    },
    {
     "name": "stderr",
     "output_type": "stream",
     "text": [
      "[Parallel(n_jobs=-1)]: Done   9 out of   9 | elapsed:    4.4s finished\n"
     ]
    },
    {
     "name": "stdout",
     "output_type": "stream",
     "text": [
      "precision: [0.46991404 0.47272727 0.64912281 0.37179487 0.69223206 0.63002681\n",
      " 0.3465704  0.32544379 0.68949772]\n",
      "recall:    [0.5942029  0.46846847 0.69273128 0.26605505 0.56006364 0.83928571\n",
      " 0.44239631 0.24122807 0.86285714]\n",
      "f1 score:  [0.5248     0.47058824 0.67021843 0.31016043 0.61917326 0.71975498\n",
      " 0.38866397 0.27707809 0.76649746]\n",
      "--------------------------------------------------\n",
      "Fitting 5 folds for each of 128 candidates, totalling 640 fits\n"
     ]
    },
    {
     "name": "stderr",
     "output_type": "stream",
     "text": [
      "[Parallel(n_jobs=-1)]: Using backend LokyBackend with 12 concurrent workers.\n",
      "[Parallel(n_jobs=-1)]: Done   8 tasks      | elapsed:    2.6s\n",
      "[Parallel(n_jobs=-1)]: Done 104 tasks      | elapsed:   57.8s\n",
      "//anaconda3/lib/python3.7/site-packages/joblib/externals/loky/process_executor.py:706: UserWarning: A worker stopped while some jobs were given to the executor. This can be caused by a too short worker timeout or by a memory leak.\n",
      "  \"timeout or by a memory leak.\", UserWarning\n",
      "[Parallel(n_jobs=-1)]: Done 264 tasks      | elapsed:  2.8min\n",
      "[Parallel(n_jobs=-1)]: Done 488 tasks      | elapsed: 10.1min\n",
      "[Parallel(n_jobs=-1)]: Done 640 out of 640 | elapsed: 11.5min finished\n",
      "[Parallel(n_jobs=-1)]: Using backend ThreadingBackend with 12 concurrent workers.\n"
     ]
    },
    {
     "name": "stdout",
     "output_type": "stream",
     "text": [
      "Convergence after 8 epochs took 3.30 seconds\n",
      "Convergence after 9 epochs took 3.79 seconds\n",
      "Convergence after 9 epochs took 3.85 seconds\n"
     ]
    },
    {
     "name": "stderr",
     "output_type": "stream",
     "text": [
      "[Parallel(n_jobs=-1)]: Done   2 out of   9 | elapsed:    3.8s remaining:   13.3s\n"
     ]
    },
    {
     "name": "stdout",
     "output_type": "stream",
     "text": [
      "Convergence after 10 epochs took 4.10 seconds\n",
      "Convergence after 10 epochs took 4.19 seconds\n",
      "Convergence after 11 epochs took 4.35 seconds\n",
      "Convergence after 12 epochs took 4.40 seconds\n",
      "Convergence after 12 epochs took 4.44 seconds\n",
      "Convergence after 13 epochs took 4.48 seconds\n"
     ]
    },
    {
     "name": "stderr",
     "output_type": "stream",
     "text": [
      "[Parallel(n_jobs=-1)]: Done   9 out of   9 | elapsed:    4.5s finished\n"
     ]
    },
    {
     "name": "stdout",
     "output_type": "stream",
     "text": [
      "precision: [0.45504087 0.45714286 0.60322256 0.4        0.69034995 0.60552764\n",
      " 0.35099338 0.31818182 0.75242718]\n",
      "recall:    [0.60288809 0.43636364 0.65969163 0.25688073 0.5183121  0.86071429\n",
      " 0.49074074 0.24454148 0.88571429]\n",
      "f1 score:  [0.51863354 0.44651163 0.63019463 0.31284916 0.59208731 0.71091445\n",
      " 0.40926641 0.27654321 0.81364829]\n",
      "--------------------------------------------------\n",
      "accuracy: 58.37% (+/- 0.84%)\n",
      "precision: 59.43% (+/- 0.62%)\n",
      "recall: 58.84% (+/- 0.87%)\n",
      "f1 score: 58.37% (+/- 0.84%)\n"
     ]
    }
   ],
   "source": [
    "pipeline_cv(3,X,y,sm_search,'weighted')"
   ]
  },
  {
   "cell_type": "code",
   "execution_count": 117,
   "metadata": {},
   "outputs": [
    {
     "data": {
      "text/plain": [
       "['model_2.pkl']"
      ]
     },
     "execution_count": 117,
     "metadata": {},
     "output_type": "execute_result"
    }
   ],
   "source": [
    "joblib.dump(sm_search.best_estimator_,'model_2.pkl')"
   ]
  },
  {
   "cell_type": "code",
   "execution_count": 122,
   "metadata": {},
   "outputs": [
    {
     "data": {
      "text/html": [
       "<div>\n",
       "<style scoped>\n",
       "    .dataframe tbody tr th:only-of-type {\n",
       "        vertical-align: middle;\n",
       "    }\n",
       "\n",
       "    .dataframe tbody tr th {\n",
       "        vertical-align: top;\n",
       "    }\n",
       "\n",
       "    .dataframe thead th {\n",
       "        text-align: right;\n",
       "    }\n",
       "</style>\n",
       "<table border=\"1\" class=\"dataframe\">\n",
       "  <thead>\n",
       "    <tr style=\"text-align: right;\">\n",
       "      <th></th>\n",
       "      <th>action</th>\n",
       "      <th>adventure</th>\n",
       "      <th>comedy</th>\n",
       "      <th>crime</th>\n",
       "      <th>drama</th>\n",
       "      <th>horror</th>\n",
       "      <th>romance</th>\n",
       "      <th>thriller</th>\n",
       "      <th>western</th>\n",
       "      <th>accuracy</th>\n",
       "      <th>macro avg</th>\n",
       "      <th>weighted avg</th>\n",
       "    </tr>\n",
       "  </thead>\n",
       "  <tbody>\n",
       "    <tr>\n",
       "      <td>precision</td>\n",
       "      <td>0.725904</td>\n",
       "      <td>0.803571</td>\n",
       "      <td>0.834213</td>\n",
       "      <td>0.824742</td>\n",
       "      <td>0.908273</td>\n",
       "      <td>0.846154</td>\n",
       "      <td>0.700787</td>\n",
       "      <td>0.813725</td>\n",
       "      <td>0.884211</td>\n",
       "      <td>0.839045</td>\n",
       "      <td>0.815731</td>\n",
       "      <td>0.844662</td>\n",
       "    </tr>\n",
       "    <tr>\n",
       "      <td>recall</td>\n",
       "      <td>0.870036</td>\n",
       "      <td>0.818182</td>\n",
       "      <td>0.870044</td>\n",
       "      <td>0.733945</td>\n",
       "      <td>0.804140</td>\n",
       "      <td>0.942857</td>\n",
       "      <td>0.824074</td>\n",
       "      <td>0.724891</td>\n",
       "      <td>0.960000</td>\n",
       "      <td>0.839045</td>\n",
       "      <td>0.838685</td>\n",
       "      <td>0.839045</td>\n",
       "    </tr>\n",
       "    <tr>\n",
       "      <td>f1-score</td>\n",
       "      <td>0.791461</td>\n",
       "      <td>0.810811</td>\n",
       "      <td>0.851752</td>\n",
       "      <td>0.776699</td>\n",
       "      <td>0.853041</td>\n",
       "      <td>0.891892</td>\n",
       "      <td>0.757447</td>\n",
       "      <td>0.766744</td>\n",
       "      <td>0.920548</td>\n",
       "      <td>0.839045</td>\n",
       "      <td>0.824488</td>\n",
       "      <td>0.839301</td>\n",
       "    </tr>\n",
       "    <tr>\n",
       "      <td>support</td>\n",
       "      <td>277.000000</td>\n",
       "      <td>110.000000</td>\n",
       "      <td>908.000000</td>\n",
       "      <td>109.000000</td>\n",
       "      <td>1256.000000</td>\n",
       "      <td>280.000000</td>\n",
       "      <td>216.000000</td>\n",
       "      <td>229.000000</td>\n",
       "      <td>175.000000</td>\n",
       "      <td>0.839045</td>\n",
       "      <td>3560.000000</td>\n",
       "      <td>3560.000000</td>\n",
       "    </tr>\n",
       "  </tbody>\n",
       "</table>\n",
       "</div>"
      ],
      "text/plain": [
       "               action   adventure      comedy       crime        drama  \\\n",
       "precision    0.725904    0.803571    0.834213    0.824742     0.908273   \n",
       "recall       0.870036    0.818182    0.870044    0.733945     0.804140   \n",
       "f1-score     0.791461    0.810811    0.851752    0.776699     0.853041   \n",
       "support    277.000000  110.000000  908.000000  109.000000  1256.000000   \n",
       "\n",
       "               horror     romance    thriller     western  accuracy  \\\n",
       "precision    0.846154    0.700787    0.813725    0.884211  0.839045   \n",
       "recall       0.942857    0.824074    0.724891    0.960000  0.839045   \n",
       "f1-score     0.891892    0.757447    0.766744    0.920548  0.839045   \n",
       "support    280.000000  216.000000  229.000000  175.000000  0.839045   \n",
       "\n",
       "             macro avg  weighted avg  \n",
       "precision     0.815731      0.844662  \n",
       "recall        0.838685      0.839045  \n",
       "f1-score      0.824488      0.839301  \n",
       "support    3560.000000   3560.000000  "
      ]
     },
     "execution_count": 122,
     "metadata": {},
     "output_type": "execute_result"
    }
   ],
   "source": [
    "y_preds = sm_search.predict(X_test)\n",
    "pd.DataFrame(metrics.classification_report(y_test,y_preds,output_dict=True))"
   ]
  },
  {
   "cell_type": "code",
   "execution_count": 125,
   "metadata": {
    "scrolled": true
   },
   "outputs": [
    {
     "name": "stdout",
     "output_type": "stream",
     "text": [
      "Fitting 5 folds for each of 128 candidates, totalling 640 fits\n"
     ]
    },
    {
     "name": "stderr",
     "output_type": "stream",
     "text": [
      "[Parallel(n_jobs=-1)]: Using backend LokyBackend with 12 concurrent workers.\n",
      "[Parallel(n_jobs=-1)]: Done   8 tasks      | elapsed:    3.1s\n",
      "[Parallel(n_jobs=-1)]: Done 104 tasks      | elapsed:   34.4s\n",
      "[Parallel(n_jobs=-1)]: Done 264 tasks      | elapsed:  1.4min\n",
      "[Parallel(n_jobs=-1)]: Done 488 tasks      | elapsed:  4.2min\n",
      "[Parallel(n_jobs=-1)]: Done 640 out of 640 | elapsed:  4.6min finished\n",
      "[Parallel(n_jobs=-1)]: Using backend ThreadingBackend with 12 concurrent workers.\n",
      "[Parallel(n_jobs=-1)]: Done   2 out of   9 | elapsed:    0.1s remaining:    0.3s\n",
      "[Parallel(n_jobs=-1)]: Done   9 out of   9 | elapsed:    0.1s finished\n"
     ]
    },
    {
     "name": "stdout",
     "output_type": "stream",
     "text": [
      "Convergence after 7 epochs took 0.07 seconds\n",
      "Convergence after 7 epochs took 0.07 seconds\n",
      "Convergence after 8 epochs took 0.07 seconds\n",
      "Convergence after 8 epochs took 0.08 seconds\n",
      "Convergence after 8 epochs took 0.08 seconds\n",
      "Convergence after 8 epochs took 0.08 seconds\n",
      "Convergence after 8 epochs took 0.08 seconds\n",
      "Convergence after 9 epochs took 0.08 seconds\n",
      "Convergence after 10 epochs took 0.09 seconds\n",
      "Fitting 5 folds for each of 128 candidates, totalling 640 fits\n"
     ]
    },
    {
     "name": "stderr",
     "output_type": "stream",
     "text": [
      "[Parallel(n_jobs=-1)]: Using backend LokyBackend with 12 concurrent workers.\n",
      "[Parallel(n_jobs=-1)]: Done   8 tasks      | elapsed:    1.7s\n",
      "[Parallel(n_jobs=-1)]: Done 104 tasks      | elapsed:   32.7s\n",
      "[Parallel(n_jobs=-1)]: Done 264 tasks      | elapsed:  1.4min\n",
      "[Parallel(n_jobs=-1)]: Done 488 tasks      | elapsed:  4.2min\n",
      "[Parallel(n_jobs=-1)]: Done 640 out of 640 | elapsed:  4.6min finished\n",
      "[Parallel(n_jobs=-1)]: Using backend ThreadingBackend with 12 concurrent workers.\n",
      "[Parallel(n_jobs=-1)]: Done   2 out of   9 | elapsed:    0.1s remaining:    0.3s\n",
      "[Parallel(n_jobs=-1)]: Done   9 out of   9 | elapsed:    0.1s finished\n"
     ]
    },
    {
     "name": "stdout",
     "output_type": "stream",
     "text": [
      "Convergence after 7 epochs took 0.07 seconds\n",
      "Convergence after 8 epochs took 0.07 seconds\n",
      "Convergence after 8 epochs took 0.08 seconds\n",
      "Convergence after 8 epochs took 0.08 seconds\n",
      "Convergence after 8 epochs took 0.08 seconds\n",
      "Convergence after 8 epochs took 0.08 seconds\n",
      "Convergence after 8 epochs took 0.08 seconds\n",
      "Convergence after 9 epochs took 0.08 seconds\n",
      "Convergence after 9 epochs took 0.09 seconds\n",
      "Fitting 5 folds for each of 128 candidates, totalling 640 fits\n"
     ]
    },
    {
     "name": "stderr",
     "output_type": "stream",
     "text": [
      "[Parallel(n_jobs=-1)]: Using backend LokyBackend with 12 concurrent workers.\n",
      "[Parallel(n_jobs=-1)]: Done   8 tasks      | elapsed:    1.7s\n",
      "[Parallel(n_jobs=-1)]: Done 104 tasks      | elapsed:   32.6s\n",
      "[Parallel(n_jobs=-1)]: Done 264 tasks      | elapsed:  1.4min\n",
      "[Parallel(n_jobs=-1)]: Done 488 tasks      | elapsed:  4.2min\n",
      "[Parallel(n_jobs=-1)]: Done 640 out of 640 | elapsed:  4.6min finished\n",
      "[Parallel(n_jobs=-1)]: Using backend ThreadingBackend with 12 concurrent workers.\n",
      "[Parallel(n_jobs=-1)]: Done   2 out of   9 | elapsed:    0.1s remaining:    0.3s\n",
      "[Parallel(n_jobs=-1)]: Done   9 out of   9 | elapsed:    0.1s finished\n"
     ]
    },
    {
     "name": "stdout",
     "output_type": "stream",
     "text": [
      "Convergence after 7 epochs took 0.06 seconds\n",
      "Convergence after 7 epochs took 0.06 seconds\n",
      "Convergence after 8 epochs took 0.07 seconds\n",
      "Convergence after 8 epochs took 0.07 seconds\n",
      "Convergence after 8 epochs took 0.07 seconds\n",
      "Convergence after 8 epochs took 0.08 seconds\n",
      "Convergence after 8 epochs took 0.08 seconds\n",
      "Convergence after 9 epochs took 0.08 seconds\n",
      "Convergence after 10 epochs took 0.09 seconds\n",
      "Fitting 5 folds for each of 128 candidates, totalling 640 fits\n"
     ]
    },
    {
     "name": "stderr",
     "output_type": "stream",
     "text": [
      "[Parallel(n_jobs=-1)]: Using backend LokyBackend with 12 concurrent workers.\n",
      "[Parallel(n_jobs=-1)]: Done   8 tasks      | elapsed:    1.7s\n",
      "[Parallel(n_jobs=-1)]: Done 104 tasks      | elapsed:   32.3s\n",
      "[Parallel(n_jobs=-1)]: Done 264 tasks      | elapsed:  1.4min\n",
      "[Parallel(n_jobs=-1)]: Done 488 tasks      | elapsed:  4.2min\n",
      "[Parallel(n_jobs=-1)]: Done 640 out of 640 | elapsed:  4.6min finished\n",
      "[Parallel(n_jobs=-1)]: Using backend ThreadingBackend with 12 concurrent workers.\n",
      "[Parallel(n_jobs=-1)]: Done   2 out of   9 | elapsed:    0.1s remaining:    0.3s\n",
      "[Parallel(n_jobs=-1)]: Done   9 out of   9 | elapsed:    0.1s finished\n"
     ]
    },
    {
     "name": "stdout",
     "output_type": "stream",
     "text": [
      "Convergence after 7 epochs took 0.06 seconds\n",
      "Convergence after 7 epochs took 0.06 seconds\n",
      "Convergence after 7 epochs took 0.06 seconds\n",
      "Convergence after 8 epochs took 0.07 seconds\n",
      "Convergence after 8 epochs took 0.07 seconds\n",
      "Convergence after 8 epochs took 0.07 seconds\n",
      "Convergence after 8 epochs took 0.08 seconds\n",
      "Convergence after 9 epochs took 0.08 seconds\n",
      "Convergence after 9 epochs took 0.09 seconds\n",
      "Fitting 5 folds for each of 128 candidates, totalling 640 fits\n"
     ]
    },
    {
     "name": "stderr",
     "output_type": "stream",
     "text": [
      "[Parallel(n_jobs=-1)]: Using backend LokyBackend with 12 concurrent workers.\n",
      "[Parallel(n_jobs=-1)]: Done   8 tasks      | elapsed:    1.7s\n",
      "[Parallel(n_jobs=-1)]: Done 104 tasks      | elapsed:   33.0s\n",
      "[Parallel(n_jobs=-1)]: Done 264 tasks      | elapsed:  1.4min\n",
      "[Parallel(n_jobs=-1)]: Done 488 tasks      | elapsed:  4.2min\n",
      "[Parallel(n_jobs=-1)]: Done 640 out of 640 | elapsed:  4.6min finished\n",
      "[Parallel(n_jobs=-1)]: Using backend ThreadingBackend with 12 concurrent workers.\n",
      "[Parallel(n_jobs=-1)]: Done   2 out of   9 | elapsed:    0.1s remaining:    0.3s\n",
      "[Parallel(n_jobs=-1)]: Done   9 out of   9 | elapsed:    0.1s finished\n"
     ]
    },
    {
     "name": "stdout",
     "output_type": "stream",
     "text": [
      "Convergence after 7 epochs took 0.07 seconds\n",
      "Convergence after 7 epochs took 0.07 seconds\n",
      "Convergence after 7 epochs took 0.07 seconds\n",
      "Convergence after 8 epochs took 0.08 seconds\n",
      "Convergence after 8 epochs took 0.08 seconds\n",
      "Convergence after 8 epochs took 0.08 seconds\n",
      "Convergence after 8 epochs took 0.08 seconds\n",
      "Convergence after 9 epochs took 0.08 seconds\n",
      "Convergence after 10 epochs took 0.09 seconds\n"
     ]
    },
    {
     "data": {
      "text/plain": [
       "array([0.5704714 , 0.54829878, 0.57731173, 0.55489976, 0.55049717])"
      ]
     },
     "execution_count": 125,
     "metadata": {},
     "output_type": "execute_result"
    }
   ],
   "source": [
    "cross_val_score(sm_search,X_test,y_test)"
   ]
  },
  {
   "cell_type": "code",
   "execution_count": null,
   "metadata": {},
   "outputs": [],
   "source": []
  },
  {
   "cell_type": "code",
   "execution_count": null,
   "metadata": {},
   "outputs": [],
   "source": []
  }
 ],
 "metadata": {
  "kernelspec": {
   "display_name": "Python 3",
   "language": "python",
   "name": "python3"
  },
  "language_info": {
   "codemirror_mode": {
    "name": "ipython",
    "version": 3
   },
   "file_extension": ".py",
   "mimetype": "text/x-python",
   "name": "python",
   "nbconvert_exporter": "python",
   "pygments_lexer": "ipython3",
   "version": "3.7.3"
  }
 },
 "nbformat": 4,
 "nbformat_minor": 2
}
