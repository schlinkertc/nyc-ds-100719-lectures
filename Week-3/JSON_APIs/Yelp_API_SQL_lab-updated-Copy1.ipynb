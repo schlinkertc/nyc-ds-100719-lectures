{
 "cells": [
  {
   "cell_type": "markdown",
   "metadata": {},
   "source": [
    "# Yelp API - Lab"
   ]
  },
  {
   "cell_type": "markdown",
   "metadata": {},
   "source": [
    "## Part I - Set up the DB\n",
    "Create your SQL queries to create the DB and the appropriate tables"
   ]
  },
  {
   "cell_type": "code",
   "execution_count": 2,
   "metadata": {},
   "outputs": [],
   "source": [
    "import config\n",
    "import json \n",
    "import requests\n",
    "import pandas as pd \n",
    "import mysql.connector\n",
    "import time"
   ]
  },
  {
   "cell_type": "code",
   "execution_count": 3,
   "metadata": {},
   "outputs": [
    {
     "name": "stdout",
     "output_type": "stream",
     "text": [
      "<mysql.connector.connection_cext.CMySQLConnection object at 0x10ba62080>\n"
     ]
    }
   ],
   "source": [
    "## Connect to DB server on AWS\n",
    "cnx = mysql.connector.connect(\n",
    "    host = config.aws_host,\n",
    "    user = config.aws_user,\n",
    "    passwd = config.aws_password,\n",
    "    database='Yelp_data'\n",
    ")\n",
    "print(cnx)"
   ]
  },
  {
   "cell_type": "code",
   "execution_count": 4,
   "metadata": {},
   "outputs": [],
   "source": [
    "cursor = cnx.cursor()\n"
   ]
  },
  {
   "cell_type": "code",
   "execution_count": 5,
   "metadata": {},
   "outputs": [],
   "source": [
    "# Create a table for the Businesses\n",
    "TABLES = {}\n",
    "TABLES['businesses'] =  (\"\"\"CREATE TABLE businesses \n",
    "                        (id varchar (50) not null unique, \n",
    "                        name varchar (50) not null, \n",
    "                        review_count int(30) not null, \n",
    "                        rating float(20) not null,\n",
    "                        price float (20) not null,\n",
    "                        PRIMARY KEY (id))\n",
    "                        engine=innoDB ;\n",
    "                        \"\"\")\n",
    "\n",
    "TABLES['reviews'] = (\"\"\"CREATE TABLE Reviews\n",
    "                    (r_id varchar (50) not null,\n",
    "                    review_text longblob not null,\n",
    "                    time_created datetime not null,\n",
    "                    PRIMARY KEY(r_id),\n",
    "                    FOREIGN KEY (id) REFERNCES (businesses.id)\n",
    "                    )engine=innoDB;\"\"\")\n",
    "# cursor.execute(create_businesses)"
   ]
  },
  {
   "cell_type": "code",
   "execution_count": 13,
   "metadata": {},
   "outputs": [
    {
     "data": {
      "text/plain": [
       "['1fVp9c5Vw04ig171a_juRw',\n",
       " '9gktK6DNHb3k0y-o6nP7pA',\n",
       " 'BAKjtydOJj6KrsGCo-6DEQ',\n",
       " 'CKG7LVmSlvI93scyb1aVeg',\n",
       " 'dRKdRpPEo6rJ2X0RYbfZzQ',\n",
       " 'FEPObR6IYWOFapJDwFhGTA',\n",
       " 'hUdRX0a_2ZZEmB8KCp-WYw',\n",
       " 'Q1TpfbuPwKPFrNFyu-u2_g',\n",
       " 'W-i6X2KWxRjsG05CgIM9ow',\n",
       " 'xH7mEjh4Rn6KdHjXYNoOjw']"
      ]
     },
     "execution_count": 13,
     "metadata": {},
     "output_type": "execute_result"
    }
   ],
   "source": [
    "#select business IDs from businesses table \n",
    "\n",
    "cursor.execute('''select id from businesses''')\n",
    "result = cursor.fetchall()\n",
    "#result = {n:x[0] for (n, x) in enumerate(result)}\n",
    "result = [x[0] for x in result]\n",
    "result"
   ]
  },
  {
   "cell_type": "markdown",
   "metadata": {},
   "source": [
    "## Part 2: Create ETL pipeline for the business data from the API"
   ]
  },
  {
   "cell_type": "code",
   "execution_count": 12,
   "metadata": {},
   "outputs": [],
   "source": [
    "# Write a function to make a call to the yelp API\n",
    "def yelp_API_call_bk_chinese(SEARCH_LIMIT):    \n",
    "    term = 'Chinese'\n",
    "    location = 'Brooklyn NY'\n",
    "    offset = 0\n",
    "\n",
    "    url = 'https://api.yelp.com/v3/businesses/search'\n",
    "    headers = {'Authorization': 'Bearer {}'.format(config.api_key)}\n",
    "    url_params = {'term':term.replace(' ','+'),'location':location.replace(' ','+'),'limit':50, 'offset':offset}\n",
    "\n",
    "    response = requests.get(url, headers=headers, params=url_params)\n",
    "    \n",
    "    results = json.loads(response.content)\n",
    "    \n",
    "    return results\n",
    "\n"
   ]
  },
  {
   "cell_type": "code",
   "execution_count": 6,
   "metadata": {},
   "outputs": [],
   "source": [
    "businesses_columns = ['id','name','review_count','rating','price']"
   ]
  },
  {
   "cell_type": "code",
   "execution_count": 14,
   "metadata": {},
   "outputs": [],
   "source": [
    "# write a function to parse the API response \n",
    "# so that you can easily insert the data in to the DB\n",
    "## I want to return a list of tuples. \n",
    "## the tuples contain the values from each dict in the 'businesses' key of the API call function results \n",
    "def parse_business_results(api_call):\n",
    "    df = pd.DataFrame(api_call['businesses'])\n",
    "    df = df[businesses_columns]\n",
    "    df['price'] = df['price'].map(lambda x: len(x),na_action='ignore')\n",
    "    df['price'].fillna(0,inplace=True)\n",
    "    #df['coordinates']=df['coordinates'].map(lambda x: tuple(x.values()))\n",
    "    return [tuple(x) for x in df.values]"
   ]
  },
  {
   "cell_type": "code",
   "execution_count": null,
   "metadata": {},
   "outputs": [],
   "source": [
    "def big_business():\n",
    "    num = "
   ]
  },
  {
   "cell_type": "markdown",
   "metadata": {},
   "source": [
    "## yelp api call for reviews "
   ]
  },
  {
   "cell_type": "code",
   "execution_count": 90,
   "metadata": {},
   "outputs": [
    {
     "data": {
      "text/plain": [
       "['_XLLSXPIjgoZQtwU3RCcQA',\n",
       " 'lgHmMRBaU-48kGaNz3jYxg',\n",
       " 'tDYk6DmmU3buWBs9G0NBXQ',\n",
       " 'U2aUFZARLeSMf4RQIxjuTw',\n",
       " 'YfJZBmm9tfW--W_WIGReqA']"
      ]
     },
     "execution_count": 90,
     "metadata": {},
     "output_type": "execute_result"
    }
   ],
   "source": [
    "def businessid_query():\n",
    "    cursor.execute('''select id from businesses''')\n",
    "    result = cursor.fetchall()\n",
    "    result = [x[0] for x in result]\n",
    "    return result\n",
    "businessid_query()"
   ]
  },
  {
   "cell_type": "code",
   "execution_count": 21,
   "metadata": {},
   "outputs": [],
   "source": [
    "def yelp_api_call_reviews(r_ids):\n",
    "    outputs = []\n",
    "    for r_id in r_ids:\n",
    "        url = 'https://api.yelp.com/v3/businesses/{}/reviews'.format(r_id)\n",
    "        headers = {'Authorization': 'Bearer {}'.format(config.api_key)}\n",
    "\n",
    "        response = requests.get(url, headers=headers)\n",
    "    \n",
    "        outputs.append(response.content)\n",
    "        \n",
    "        outputs = [json.loads(x) for x in outputs]\n",
    "        \n",
    "        dfs = []\n",
    "\n",
    "        for item in outputs:\n",
    "            dfs.append(pd.DataFrame(item['reviews']))\n",
    "            df = pd.concat(dfs)\n",
    "            df = df[['id','text','time_created']]\n",
    "            df['business_id'] = r_id\n",
    "            return [tuple(x) for x in df.values]\n",
    "\n",
    "            #return df.head()"
   ]
  },
  {
   "cell_type": "markdown",
   "metadata": {},
   "source": [
    "## draft a function to parse yelp reviews results "
   ]
  },
  {
   "cell_type": "code",
   "execution_count": 111,
   "metadata": {},
   "outputs": [],
   "source": [
    "reviews_test = yelp_api_call_reviews(businessid_query())"
   ]
  },
  {
   "cell_type": "code",
   "execution_count": 136,
   "metadata": {},
   "outputs": [],
   "source": [
    "# def parse_review_results(api_call):\n",
    "#     df = pd.DataFrame(api_call['businesses'])\n",
    "#     df = df[businesses_columns]\n",
    "#     df['price'] = df['price'].map(lambda x: len(x),na_action='ignore')\n",
    "#     df['price'].fillnda(0,inplace=True)\n",
    "#     #df['coordinates']=df['coordinates'].map(lambda x: tuple(x.values()))\n",
    "#     \n"
   ]
  },
  {
   "cell_type": "markdown",
   "metadata": {},
   "source": [
    "## inserting info to Database"
   ]
  },
  {
   "cell_type": "code",
   "execution_count": 11,
   "metadata": {},
   "outputs": [],
   "source": [
    "# Write a function to take your parsed data and insert it into the DB\n",
    "business_stmt = \"\"\"INSERT INTO businesses (id, name, review_count, rating, price) VALUES (%s, %s, %s, %s, %s)\"\"\""
   ]
  },
  {
   "cell_type": "code",
   "execution_count": 12,
   "metadata": {},
   "outputs": [],
   "source": [
    "def business_agg(SEARCH_LIMIT):\n",
    "    cursor.executemany(business_stmt,parse_business_results(yelp_API_call_bk_chinese(SEARCH_LIMIT)))\n",
    "    cnx.commit()\n",
    "    return cursor.execute(\"\"\"SELECT * FROM businesses;\"\"\")"
   ]
  },
  {
   "cell_type": "markdown",
   "metadata": {},
   "source": [
    "## Part 3: Create ETL pipeline for the restaurant review data from the API"
   ]
  },
  {
   "cell_type": "code",
   "execution_count": null,
   "metadata": {},
   "outputs": [],
   "source": [
    "# write a SQL query to pull back all of the business ids \n",
    "# you will need these ids to pull back the reviews for each restaurant"
   ]
  },
  {
   "cell_type": "code",
   "execution_count": null,
   "metadata": {},
   "outputs": [],
   "source": [
    "# write a function that takes a business id \n",
    "# and makes a call to the API for reivews\n"
   ]
  },
  {
   "cell_type": "code",
   "execution_count": null,
   "metadata": {},
   "outputs": [],
   "source": [
    "# Write a function to parse out the relevant information from the reviews"
   ]
  },
  {
   "cell_type": "code",
   "execution_count": null,
   "metadata": {},
   "outputs": [],
   "source": [
    "# write a function to insert the parsed data into the reviews table"
   ]
  },
  {
   "cell_type": "code",
   "execution_count": null,
   "metadata": {},
   "outputs": [],
   "source": [
    "# combine the functions above into a single script  "
   ]
  },
  {
   "cell_type": "markdown",
   "metadata": {},
   "source": [
    "## Part 4: Write SQL queries that will answer the questions posed. "
   ]
  },
  {
   "cell_type": "code",
   "execution_count": null,
   "metadata": {},
   "outputs": [],
   "source": [
    "# create connection"
   ]
  },
  {
   "cell_type": "code",
   "execution_count": null,
   "metadata": {},
   "outputs": [],
   "source": [
    "# execute SQL queries"
   ]
  },
  {
   "cell_type": "markdown",
   "metadata": {},
   "source": [
    "## sample code to help with pagination "
   ]
  },
  {
   "cell_type": "code",
   "execution_count": null,
   "metadata": {},
   "outputs": [],
   "source": [
    "def yelp_call(url_params, api_key):\n",
    "    url = 'https://api.yelp.com/v3/businesses/search'\n",
    "    headers = {'Authorization': 'Bearer {}'.format(api_key)}\n",
    "    response = requests.get(url, headers=headers, params=url_params)\n",
    "    \n",
    "    data = response.json()['businesses']\n",
    "    return data"
   ]
  },
  {
   "cell_type": "code",
   "execution_count": null,
   "metadata": {},
   "outputs": [],
   "source": [
    "def parse_results(results):\n",
    "    \n",
    "    return parsed_results"
   ]
  },
  {
   "cell_type": "code",
   "execution_count": null,
   "metadata": {},
   "outputs": [],
   "source": [
    "# Your code here; use a function or loop to retrieve all the results from your original request\n",
    "import time\n",
    "\n",
    "\n",
    "\n",
    "def all_results(url_params, api_key):\n",
    "    num = response.json()['total']\n",
    "    print('{} total matches found.'.format(num))\n",
    "    cur = 0\n",
    "    \n",
    "    while cur < num and cur < 1000:\n",
    "        url_params['offset'] = cur\n",
    "        results = yelp_call(url_params, api_key)\n",
    "        parsed_results = parse_results(results)\n",
    "        db_insert(parsed)\n",
    "        time.sleep(1) #Wait a second\n",
    "        cur += 50\n",
    "\n",
    "term = 'pizza'\n",
    "location = 'Astoria NY'\n",
    "url_params = {  'term': term.replace(' ', '+'),\n",
    "                'location': location.replace(' ', '+'),\n",
    "                'limit' : 50\n",
    "             }\n",
    "df = all_results(url_params, api_key)\n",
    "print(len(df))\n",
    "df.head()"
   ]
  },
  {
   "cell_type": "code",
   "execution_count": null,
   "metadata": {},
   "outputs": [],
   "source": []
  }
 ],
 "metadata": {
  "kernelspec": {
   "display_name": "Python 3",
   "language": "python",
   "name": "python3"
  },
  "language_info": {
   "codemirror_mode": {
    "name": "ipython",
    "version": 3
   },
   "file_extension": ".py",
   "mimetype": "text/x-python",
   "name": "python",
   "nbconvert_exporter": "python",
   "pygments_lexer": "ipython3",
   "version": "3.7.3"
  },
  "toc": {
   "base_numbering": 1,
   "nav_menu": {},
   "number_sections": false,
   "sideBar": true,
   "skip_h1_title": false,
   "title_cell": "Table of Contents",
   "title_sidebar": "Contents",
   "toc_cell": false,
   "toc_position": {},
   "toc_section_display": true,
   "toc_window_display": false
  }
 },
 "nbformat": 4,
 "nbformat_minor": 2
}
