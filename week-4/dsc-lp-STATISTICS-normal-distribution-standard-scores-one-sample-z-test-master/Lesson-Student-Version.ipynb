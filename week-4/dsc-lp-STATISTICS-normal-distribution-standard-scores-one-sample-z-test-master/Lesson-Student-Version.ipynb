{
 "cells": [
  {
   "cell_type": "markdown",
   "metadata": {
    "slideshow": {
     "slide_type": "slide"
    }
   },
   "source": [
    "# The Normal Distribution, Standard Normal Distribution, Standard Scores, and One-Sample z-tests"
   ]
  },
  {
   "cell_type": "markdown",
   "metadata": {
    "slideshow": {
     "slide_type": "slide"
    }
   },
   "source": [
    "# Normal distribution \n",
    "\n",
    "\n",
    "## What are the parameters that characterize the normal distribution?"
   ]
  },
  {
   "cell_type": "markdown",
   "metadata": {
    "slideshow": {
     "slide_type": "slide"
    }
   },
   "source": [
    "## What is the empirical rule? "
   ]
  },
  {
   "cell_type": "markdown",
   "metadata": {
    "slideshow": {
     "slide_type": "slide"
    }
   },
   "source": [
    "## Next, let's create a normal distribution with `numpy` and visualize it"
   ]
  },
  {
   "cell_type": "markdown",
   "metadata": {
    "slideshow": {
     "slide_type": "slide"
    }
   },
   "source": [
    "Use `numpy` to create a normal distribution containing 3000 values with mean $\\mu = 20$ and standard deviation $\\sigma = 0.5$"
   ]
  },
  {
   "cell_type": "code",
   "execution_count": 8,
   "metadata": {},
   "outputs": [],
   "source": [
    "import numpy as np\n",
    "normal = np.random.normal(loc=20,scale=.5,size=3000)"
   ]
  },
  {
   "cell_type": "markdown",
   "metadata": {
    "slideshow": {
     "slide_type": "slide"
    }
   },
   "source": [
    "Create a normalized histogram for this distribution using `matplotlib`. Set bins = 20. Make sure to get the bin positions and counts for each of the obtained bins."
   ]
  },
  {
   "cell_type": "code",
   "execution_count": 9,
   "metadata": {},
   "outputs": [],
   "source": [
    "import matplotlib.pyplot as plt\n",
    "%matplotlib notebook"
   ]
  },
  {
   "cell_type": "code",
   "execution_count": 10,
   "metadata": {},
   "outputs": [
    {
     "data": {
      "application/javascript": [
       "/* Put everything inside the global mpl namespace */\n",
       "window.mpl = {};\n",
       "\n",
       "\n",
       "mpl.get_websocket_type = function() {\n",
       "    if (typeof(WebSocket) !== 'undefined') {\n",
       "        return WebSocket;\n",
       "    } else if (typeof(MozWebSocket) !== 'undefined') {\n",
       "        return MozWebSocket;\n",
       "    } else {\n",
       "        alert('Your browser does not have WebSocket support. ' +\n",
       "              'Please try Chrome, Safari or Firefox ≥ 6. ' +\n",
       "              'Firefox 4 and 5 are also supported but you ' +\n",
       "              'have to enable WebSockets in about:config.');\n",
       "    };\n",
       "}\n",
       "\n",
       "mpl.figure = function(figure_id, websocket, ondownload, parent_element) {\n",
       "    this.id = figure_id;\n",
       "\n",
       "    this.ws = websocket;\n",
       "\n",
       "    this.supports_binary = (this.ws.binaryType != undefined);\n",
       "\n",
       "    if (!this.supports_binary) {\n",
       "        var warnings = document.getElementById(\"mpl-warnings\");\n",
       "        if (warnings) {\n",
       "            warnings.style.display = 'block';\n",
       "            warnings.textContent = (\n",
       "                \"This browser does not support binary websocket messages. \" +\n",
       "                    \"Performance may be slow.\");\n",
       "        }\n",
       "    }\n",
       "\n",
       "    this.imageObj = new Image();\n",
       "\n",
       "    this.context = undefined;\n",
       "    this.message = undefined;\n",
       "    this.canvas = undefined;\n",
       "    this.rubberband_canvas = undefined;\n",
       "    this.rubberband_context = undefined;\n",
       "    this.format_dropdown = undefined;\n",
       "\n",
       "    this.image_mode = 'full';\n",
       "\n",
       "    this.root = $('<div/>');\n",
       "    this._root_extra_style(this.root)\n",
       "    this.root.attr('style', 'display: inline-block');\n",
       "\n",
       "    $(parent_element).append(this.root);\n",
       "\n",
       "    this._init_header(this);\n",
       "    this._init_canvas(this);\n",
       "    this._init_toolbar(this);\n",
       "\n",
       "    var fig = this;\n",
       "\n",
       "    this.waiting = false;\n",
       "\n",
       "    this.ws.onopen =  function () {\n",
       "            fig.send_message(\"supports_binary\", {value: fig.supports_binary});\n",
       "            fig.send_message(\"send_image_mode\", {});\n",
       "            if (mpl.ratio != 1) {\n",
       "                fig.send_message(\"set_dpi_ratio\", {'dpi_ratio': mpl.ratio});\n",
       "            }\n",
       "            fig.send_message(\"refresh\", {});\n",
       "        }\n",
       "\n",
       "    this.imageObj.onload = function() {\n",
       "            if (fig.image_mode == 'full') {\n",
       "                // Full images could contain transparency (where diff images\n",
       "                // almost always do), so we need to clear the canvas so that\n",
       "                // there is no ghosting.\n",
       "                fig.context.clearRect(0, 0, fig.canvas.width, fig.canvas.height);\n",
       "            }\n",
       "            fig.context.drawImage(fig.imageObj, 0, 0);\n",
       "        };\n",
       "\n",
       "    this.imageObj.onunload = function() {\n",
       "        fig.ws.close();\n",
       "    }\n",
       "\n",
       "    this.ws.onmessage = this._make_on_message_function(this);\n",
       "\n",
       "    this.ondownload = ondownload;\n",
       "}\n",
       "\n",
       "mpl.figure.prototype._init_header = function() {\n",
       "    var titlebar = $(\n",
       "        '<div class=\"ui-dialog-titlebar ui-widget-header ui-corner-all ' +\n",
       "        'ui-helper-clearfix\"/>');\n",
       "    var titletext = $(\n",
       "        '<div class=\"ui-dialog-title\" style=\"width: 100%; ' +\n",
       "        'text-align: center; padding: 3px;\"/>');\n",
       "    titlebar.append(titletext)\n",
       "    this.root.append(titlebar);\n",
       "    this.header = titletext[0];\n",
       "}\n",
       "\n",
       "\n",
       "\n",
       "mpl.figure.prototype._canvas_extra_style = function(canvas_div) {\n",
       "\n",
       "}\n",
       "\n",
       "\n",
       "mpl.figure.prototype._root_extra_style = function(canvas_div) {\n",
       "\n",
       "}\n",
       "\n",
       "mpl.figure.prototype._init_canvas = function() {\n",
       "    var fig = this;\n",
       "\n",
       "    var canvas_div = $('<div/>');\n",
       "\n",
       "    canvas_div.attr('style', 'position: relative; clear: both; outline: 0');\n",
       "\n",
       "    function canvas_keyboard_event(event) {\n",
       "        return fig.key_event(event, event['data']);\n",
       "    }\n",
       "\n",
       "    canvas_div.keydown('key_press', canvas_keyboard_event);\n",
       "    canvas_div.keyup('key_release', canvas_keyboard_event);\n",
       "    this.canvas_div = canvas_div\n",
       "    this._canvas_extra_style(canvas_div)\n",
       "    this.root.append(canvas_div);\n",
       "\n",
       "    var canvas = $('<canvas/>');\n",
       "    canvas.addClass('mpl-canvas');\n",
       "    canvas.attr('style', \"left: 0; top: 0; z-index: 0; outline: 0\")\n",
       "\n",
       "    this.canvas = canvas[0];\n",
       "    this.context = canvas[0].getContext(\"2d\");\n",
       "\n",
       "    var backingStore = this.context.backingStorePixelRatio ||\n",
       "\tthis.context.webkitBackingStorePixelRatio ||\n",
       "\tthis.context.mozBackingStorePixelRatio ||\n",
       "\tthis.context.msBackingStorePixelRatio ||\n",
       "\tthis.context.oBackingStorePixelRatio ||\n",
       "\tthis.context.backingStorePixelRatio || 1;\n",
       "\n",
       "    mpl.ratio = (window.devicePixelRatio || 1) / backingStore;\n",
       "\n",
       "    var rubberband = $('<canvas/>');\n",
       "    rubberband.attr('style', \"position: absolute; left: 0; top: 0; z-index: 1;\")\n",
       "\n",
       "    var pass_mouse_events = true;\n",
       "\n",
       "    canvas_div.resizable({\n",
       "        start: function(event, ui) {\n",
       "            pass_mouse_events = false;\n",
       "        },\n",
       "        resize: function(event, ui) {\n",
       "            fig.request_resize(ui.size.width, ui.size.height);\n",
       "        },\n",
       "        stop: function(event, ui) {\n",
       "            pass_mouse_events = true;\n",
       "            fig.request_resize(ui.size.width, ui.size.height);\n",
       "        },\n",
       "    });\n",
       "\n",
       "    function mouse_event_fn(event) {\n",
       "        if (pass_mouse_events)\n",
       "            return fig.mouse_event(event, event['data']);\n",
       "    }\n",
       "\n",
       "    rubberband.mousedown('button_press', mouse_event_fn);\n",
       "    rubberband.mouseup('button_release', mouse_event_fn);\n",
       "    // Throttle sequential mouse events to 1 every 20ms.\n",
       "    rubberband.mousemove('motion_notify', mouse_event_fn);\n",
       "\n",
       "    rubberband.mouseenter('figure_enter', mouse_event_fn);\n",
       "    rubberband.mouseleave('figure_leave', mouse_event_fn);\n",
       "\n",
       "    canvas_div.on(\"wheel\", function (event) {\n",
       "        event = event.originalEvent;\n",
       "        event['data'] = 'scroll'\n",
       "        if (event.deltaY < 0) {\n",
       "            event.step = 1;\n",
       "        } else {\n",
       "            event.step = -1;\n",
       "        }\n",
       "        mouse_event_fn(event);\n",
       "    });\n",
       "\n",
       "    canvas_div.append(canvas);\n",
       "    canvas_div.append(rubberband);\n",
       "\n",
       "    this.rubberband = rubberband;\n",
       "    this.rubberband_canvas = rubberband[0];\n",
       "    this.rubberband_context = rubberband[0].getContext(\"2d\");\n",
       "    this.rubberband_context.strokeStyle = \"#000000\";\n",
       "\n",
       "    this._resize_canvas = function(width, height) {\n",
       "        // Keep the size of the canvas, canvas container, and rubber band\n",
       "        // canvas in synch.\n",
       "        canvas_div.css('width', width)\n",
       "        canvas_div.css('height', height)\n",
       "\n",
       "        canvas.attr('width', width * mpl.ratio);\n",
       "        canvas.attr('height', height * mpl.ratio);\n",
       "        canvas.attr('style', 'width: ' + width + 'px; height: ' + height + 'px;');\n",
       "\n",
       "        rubberband.attr('width', width);\n",
       "        rubberband.attr('height', height);\n",
       "    }\n",
       "\n",
       "    // Set the figure to an initial 600x600px, this will subsequently be updated\n",
       "    // upon first draw.\n",
       "    this._resize_canvas(600, 600);\n",
       "\n",
       "    // Disable right mouse context menu.\n",
       "    $(this.rubberband_canvas).bind(\"contextmenu\",function(e){\n",
       "        return false;\n",
       "    });\n",
       "\n",
       "    function set_focus () {\n",
       "        canvas.focus();\n",
       "        canvas_div.focus();\n",
       "    }\n",
       "\n",
       "    window.setTimeout(set_focus, 100);\n",
       "}\n",
       "\n",
       "mpl.figure.prototype._init_toolbar = function() {\n",
       "    var fig = this;\n",
       "\n",
       "    var nav_element = $('<div/>');\n",
       "    nav_element.attr('style', 'width: 100%');\n",
       "    this.root.append(nav_element);\n",
       "\n",
       "    // Define a callback function for later on.\n",
       "    function toolbar_event(event) {\n",
       "        return fig.toolbar_button_onclick(event['data']);\n",
       "    }\n",
       "    function toolbar_mouse_event(event) {\n",
       "        return fig.toolbar_button_onmouseover(event['data']);\n",
       "    }\n",
       "\n",
       "    for(var toolbar_ind in mpl.toolbar_items) {\n",
       "        var name = mpl.toolbar_items[toolbar_ind][0];\n",
       "        var tooltip = mpl.toolbar_items[toolbar_ind][1];\n",
       "        var image = mpl.toolbar_items[toolbar_ind][2];\n",
       "        var method_name = mpl.toolbar_items[toolbar_ind][3];\n",
       "\n",
       "        if (!name) {\n",
       "            // put a spacer in here.\n",
       "            continue;\n",
       "        }\n",
       "        var button = $('<button/>');\n",
       "        button.addClass('ui-button ui-widget ui-state-default ui-corner-all ' +\n",
       "                        'ui-button-icon-only');\n",
       "        button.attr('role', 'button');\n",
       "        button.attr('aria-disabled', 'false');\n",
       "        button.click(method_name, toolbar_event);\n",
       "        button.mouseover(tooltip, toolbar_mouse_event);\n",
       "\n",
       "        var icon_img = $('<span/>');\n",
       "        icon_img.addClass('ui-button-icon-primary ui-icon');\n",
       "        icon_img.addClass(image);\n",
       "        icon_img.addClass('ui-corner-all');\n",
       "\n",
       "        var tooltip_span = $('<span/>');\n",
       "        tooltip_span.addClass('ui-button-text');\n",
       "        tooltip_span.html(tooltip);\n",
       "\n",
       "        button.append(icon_img);\n",
       "        button.append(tooltip_span);\n",
       "\n",
       "        nav_element.append(button);\n",
       "    }\n",
       "\n",
       "    var fmt_picker_span = $('<span/>');\n",
       "\n",
       "    var fmt_picker = $('<select/>');\n",
       "    fmt_picker.addClass('mpl-toolbar-option ui-widget ui-widget-content');\n",
       "    fmt_picker_span.append(fmt_picker);\n",
       "    nav_element.append(fmt_picker_span);\n",
       "    this.format_dropdown = fmt_picker[0];\n",
       "\n",
       "    for (var ind in mpl.extensions) {\n",
       "        var fmt = mpl.extensions[ind];\n",
       "        var option = $(\n",
       "            '<option/>', {selected: fmt === mpl.default_extension}).html(fmt);\n",
       "        fmt_picker.append(option);\n",
       "    }\n",
       "\n",
       "    // Add hover states to the ui-buttons\n",
       "    $( \".ui-button\" ).hover(\n",
       "        function() { $(this).addClass(\"ui-state-hover\");},\n",
       "        function() { $(this).removeClass(\"ui-state-hover\");}\n",
       "    );\n",
       "\n",
       "    var status_bar = $('<span class=\"mpl-message\"/>');\n",
       "    nav_element.append(status_bar);\n",
       "    this.message = status_bar[0];\n",
       "}\n",
       "\n",
       "mpl.figure.prototype.request_resize = function(x_pixels, y_pixels) {\n",
       "    // Request matplotlib to resize the figure. Matplotlib will then trigger a resize in the client,\n",
       "    // which will in turn request a refresh of the image.\n",
       "    this.send_message('resize', {'width': x_pixels, 'height': y_pixels});\n",
       "}\n",
       "\n",
       "mpl.figure.prototype.send_message = function(type, properties) {\n",
       "    properties['type'] = type;\n",
       "    properties['figure_id'] = this.id;\n",
       "    this.ws.send(JSON.stringify(properties));\n",
       "}\n",
       "\n",
       "mpl.figure.prototype.send_draw_message = function() {\n",
       "    if (!this.waiting) {\n",
       "        this.waiting = true;\n",
       "        this.ws.send(JSON.stringify({type: \"draw\", figure_id: this.id}));\n",
       "    }\n",
       "}\n",
       "\n",
       "\n",
       "mpl.figure.prototype.handle_save = function(fig, msg) {\n",
       "    var format_dropdown = fig.format_dropdown;\n",
       "    var format = format_dropdown.options[format_dropdown.selectedIndex].value;\n",
       "    fig.ondownload(fig, format);\n",
       "}\n",
       "\n",
       "\n",
       "mpl.figure.prototype.handle_resize = function(fig, msg) {\n",
       "    var size = msg['size'];\n",
       "    if (size[0] != fig.canvas.width || size[1] != fig.canvas.height) {\n",
       "        fig._resize_canvas(size[0], size[1]);\n",
       "        fig.send_message(\"refresh\", {});\n",
       "    };\n",
       "}\n",
       "\n",
       "mpl.figure.prototype.handle_rubberband = function(fig, msg) {\n",
       "    var x0 = msg['x0'] / mpl.ratio;\n",
       "    var y0 = (fig.canvas.height - msg['y0']) / mpl.ratio;\n",
       "    var x1 = msg['x1'] / mpl.ratio;\n",
       "    var y1 = (fig.canvas.height - msg['y1']) / mpl.ratio;\n",
       "    x0 = Math.floor(x0) + 0.5;\n",
       "    y0 = Math.floor(y0) + 0.5;\n",
       "    x1 = Math.floor(x1) + 0.5;\n",
       "    y1 = Math.floor(y1) + 0.5;\n",
       "    var min_x = Math.min(x0, x1);\n",
       "    var min_y = Math.min(y0, y1);\n",
       "    var width = Math.abs(x1 - x0);\n",
       "    var height = Math.abs(y1 - y0);\n",
       "\n",
       "    fig.rubberband_context.clearRect(\n",
       "        0, 0, fig.canvas.width / mpl.ratio, fig.canvas.height / mpl.ratio);\n",
       "\n",
       "    fig.rubberband_context.strokeRect(min_x, min_y, width, height);\n",
       "}\n",
       "\n",
       "mpl.figure.prototype.handle_figure_label = function(fig, msg) {\n",
       "    // Updates the figure title.\n",
       "    fig.header.textContent = msg['label'];\n",
       "}\n",
       "\n",
       "mpl.figure.prototype.handle_cursor = function(fig, msg) {\n",
       "    var cursor = msg['cursor'];\n",
       "    switch(cursor)\n",
       "    {\n",
       "    case 0:\n",
       "        cursor = 'pointer';\n",
       "        break;\n",
       "    case 1:\n",
       "        cursor = 'default';\n",
       "        break;\n",
       "    case 2:\n",
       "        cursor = 'crosshair';\n",
       "        break;\n",
       "    case 3:\n",
       "        cursor = 'move';\n",
       "        break;\n",
       "    }\n",
       "    fig.rubberband_canvas.style.cursor = cursor;\n",
       "}\n",
       "\n",
       "mpl.figure.prototype.handle_message = function(fig, msg) {\n",
       "    fig.message.textContent = msg['message'];\n",
       "}\n",
       "\n",
       "mpl.figure.prototype.handle_draw = function(fig, msg) {\n",
       "    // Request the server to send over a new figure.\n",
       "    fig.send_draw_message();\n",
       "}\n",
       "\n",
       "mpl.figure.prototype.handle_image_mode = function(fig, msg) {\n",
       "    fig.image_mode = msg['mode'];\n",
       "}\n",
       "\n",
       "mpl.figure.prototype.updated_canvas_event = function() {\n",
       "    // Called whenever the canvas gets updated.\n",
       "    this.send_message(\"ack\", {});\n",
       "}\n",
       "\n",
       "// A function to construct a web socket function for onmessage handling.\n",
       "// Called in the figure constructor.\n",
       "mpl.figure.prototype._make_on_message_function = function(fig) {\n",
       "    return function socket_on_message(evt) {\n",
       "        if (evt.data instanceof Blob) {\n",
       "            /* FIXME: We get \"Resource interpreted as Image but\n",
       "             * transferred with MIME type text/plain:\" errors on\n",
       "             * Chrome.  But how to set the MIME type?  It doesn't seem\n",
       "             * to be part of the websocket stream */\n",
       "            evt.data.type = \"image/png\";\n",
       "\n",
       "            /* Free the memory for the previous frames */\n",
       "            if (fig.imageObj.src) {\n",
       "                (window.URL || window.webkitURL).revokeObjectURL(\n",
       "                    fig.imageObj.src);\n",
       "            }\n",
       "\n",
       "            fig.imageObj.src = (window.URL || window.webkitURL).createObjectURL(\n",
       "                evt.data);\n",
       "            fig.updated_canvas_event();\n",
       "            fig.waiting = false;\n",
       "            return;\n",
       "        }\n",
       "        else if (typeof evt.data === 'string' && evt.data.slice(0, 21) == \"data:image/png;base64\") {\n",
       "            fig.imageObj.src = evt.data;\n",
       "            fig.updated_canvas_event();\n",
       "            fig.waiting = false;\n",
       "            return;\n",
       "        }\n",
       "\n",
       "        var msg = JSON.parse(evt.data);\n",
       "        var msg_type = msg['type'];\n",
       "\n",
       "        // Call the  \"handle_{type}\" callback, which takes\n",
       "        // the figure and JSON message as its only arguments.\n",
       "        try {\n",
       "            var callback = fig[\"handle_\" + msg_type];\n",
       "        } catch (e) {\n",
       "            console.log(\"No handler for the '\" + msg_type + \"' message type: \", msg);\n",
       "            return;\n",
       "        }\n",
       "\n",
       "        if (callback) {\n",
       "            try {\n",
       "                // console.log(\"Handling '\" + msg_type + \"' message: \", msg);\n",
       "                callback(fig, msg);\n",
       "            } catch (e) {\n",
       "                console.log(\"Exception inside the 'handler_\" + msg_type + \"' callback:\", e, e.stack, msg);\n",
       "            }\n",
       "        }\n",
       "    };\n",
       "}\n",
       "\n",
       "// from http://stackoverflow.com/questions/1114465/getting-mouse-location-in-canvas\n",
       "mpl.findpos = function(e) {\n",
       "    //this section is from http://www.quirksmode.org/js/events_properties.html\n",
       "    var targ;\n",
       "    if (!e)\n",
       "        e = window.event;\n",
       "    if (e.target)\n",
       "        targ = e.target;\n",
       "    else if (e.srcElement)\n",
       "        targ = e.srcElement;\n",
       "    if (targ.nodeType == 3) // defeat Safari bug\n",
       "        targ = targ.parentNode;\n",
       "\n",
       "    // jQuery normalizes the pageX and pageY\n",
       "    // pageX,Y are the mouse positions relative to the document\n",
       "    // offset() returns the position of the element relative to the document\n",
       "    var x = e.pageX - $(targ).offset().left;\n",
       "    var y = e.pageY - $(targ).offset().top;\n",
       "\n",
       "    return {\"x\": x, \"y\": y};\n",
       "};\n",
       "\n",
       "/*\n",
       " * return a copy of an object with only non-object keys\n",
       " * we need this to avoid circular references\n",
       " * http://stackoverflow.com/a/24161582/3208463\n",
       " */\n",
       "function simpleKeys (original) {\n",
       "  return Object.keys(original).reduce(function (obj, key) {\n",
       "    if (typeof original[key] !== 'object')\n",
       "        obj[key] = original[key]\n",
       "    return obj;\n",
       "  }, {});\n",
       "}\n",
       "\n",
       "mpl.figure.prototype.mouse_event = function(event, name) {\n",
       "    var canvas_pos = mpl.findpos(event)\n",
       "\n",
       "    if (name === 'button_press')\n",
       "    {\n",
       "        this.canvas.focus();\n",
       "        this.canvas_div.focus();\n",
       "    }\n",
       "\n",
       "    var x = canvas_pos.x * mpl.ratio;\n",
       "    var y = canvas_pos.y * mpl.ratio;\n",
       "\n",
       "    this.send_message(name, {x: x, y: y, button: event.button,\n",
       "                             step: event.step,\n",
       "                             guiEvent: simpleKeys(event)});\n",
       "\n",
       "    /* This prevents the web browser from automatically changing to\n",
       "     * the text insertion cursor when the button is pressed.  We want\n",
       "     * to control all of the cursor setting manually through the\n",
       "     * 'cursor' event from matplotlib */\n",
       "    event.preventDefault();\n",
       "    return false;\n",
       "}\n",
       "\n",
       "mpl.figure.prototype._key_event_extra = function(event, name) {\n",
       "    // Handle any extra behaviour associated with a key event\n",
       "}\n",
       "\n",
       "mpl.figure.prototype.key_event = function(event, name) {\n",
       "\n",
       "    // Prevent repeat events\n",
       "    if (name == 'key_press')\n",
       "    {\n",
       "        if (event.which === this._key)\n",
       "            return;\n",
       "        else\n",
       "            this._key = event.which;\n",
       "    }\n",
       "    if (name == 'key_release')\n",
       "        this._key = null;\n",
       "\n",
       "    var value = '';\n",
       "    if (event.ctrlKey && event.which != 17)\n",
       "        value += \"ctrl+\";\n",
       "    if (event.altKey && event.which != 18)\n",
       "        value += \"alt+\";\n",
       "    if (event.shiftKey && event.which != 16)\n",
       "        value += \"shift+\";\n",
       "\n",
       "    value += 'k';\n",
       "    value += event.which.toString();\n",
       "\n",
       "    this._key_event_extra(event, name);\n",
       "\n",
       "    this.send_message(name, {key: value,\n",
       "                             guiEvent: simpleKeys(event)});\n",
       "    return false;\n",
       "}\n",
       "\n",
       "mpl.figure.prototype.toolbar_button_onclick = function(name) {\n",
       "    if (name == 'download') {\n",
       "        this.handle_save(this, null);\n",
       "    } else {\n",
       "        this.send_message(\"toolbar_button\", {name: name});\n",
       "    }\n",
       "};\n",
       "\n",
       "mpl.figure.prototype.toolbar_button_onmouseover = function(tooltip) {\n",
       "    this.message.textContent = tooltip;\n",
       "};\n",
       "mpl.toolbar_items = [[\"Home\", \"Reset original view\", \"fa fa-home icon-home\", \"home\"], [\"Back\", \"Back to previous view\", \"fa fa-arrow-left icon-arrow-left\", \"back\"], [\"Forward\", \"Forward to next view\", \"fa fa-arrow-right icon-arrow-right\", \"forward\"], [\"\", \"\", \"\", \"\"], [\"Pan\", \"Pan axes with left mouse, zoom with right\", \"fa fa-arrows icon-move\", \"pan\"], [\"Zoom\", \"Zoom to rectangle\", \"fa fa-square-o icon-check-empty\", \"zoom\"], [\"\", \"\", \"\", \"\"], [\"Download\", \"Download plot\", \"fa fa-floppy-o icon-save\", \"download\"]];\n",
       "\n",
       "mpl.extensions = [\"eps\", \"jpeg\", \"pdf\", \"png\", \"ps\", \"raw\", \"svg\", \"tif\"];\n",
       "\n",
       "mpl.default_extension = \"png\";var comm_websocket_adapter = function(comm) {\n",
       "    // Create a \"websocket\"-like object which calls the given IPython comm\n",
       "    // object with the appropriate methods. Currently this is a non binary\n",
       "    // socket, so there is still some room for performance tuning.\n",
       "    var ws = {};\n",
       "\n",
       "    ws.close = function() {\n",
       "        comm.close()\n",
       "    };\n",
       "    ws.send = function(m) {\n",
       "        //console.log('sending', m);\n",
       "        comm.send(m);\n",
       "    };\n",
       "    // Register the callback with on_msg.\n",
       "    comm.on_msg(function(msg) {\n",
       "        //console.log('receiving', msg['content']['data'], msg);\n",
       "        // Pass the mpl event to the overridden (by mpl) onmessage function.\n",
       "        ws.onmessage(msg['content']['data'])\n",
       "    });\n",
       "    return ws;\n",
       "}\n",
       "\n",
       "mpl.mpl_figure_comm = function(comm, msg) {\n",
       "    // This is the function which gets called when the mpl process\n",
       "    // starts-up an IPython Comm through the \"matplotlib\" channel.\n",
       "\n",
       "    var id = msg.content.data.id;\n",
       "    // Get hold of the div created by the display call when the Comm\n",
       "    // socket was opened in Python.\n",
       "    var element = $(\"#\" + id);\n",
       "    var ws_proxy = comm_websocket_adapter(comm)\n",
       "\n",
       "    function ondownload(figure, format) {\n",
       "        window.open(figure.imageObj.src);\n",
       "    }\n",
       "\n",
       "    var fig = new mpl.figure(id, ws_proxy,\n",
       "                           ondownload,\n",
       "                           element.get(0));\n",
       "\n",
       "    // Call onopen now - mpl needs it, as it is assuming we've passed it a real\n",
       "    // web socket which is closed, not our websocket->open comm proxy.\n",
       "    ws_proxy.onopen();\n",
       "\n",
       "    fig.parent_element = element.get(0);\n",
       "    fig.cell_info = mpl.find_output_cell(\"<div id='\" + id + \"'></div>\");\n",
       "    if (!fig.cell_info) {\n",
       "        console.error(\"Failed to find cell for figure\", id, fig);\n",
       "        return;\n",
       "    }\n",
       "\n",
       "    var output_index = fig.cell_info[2]\n",
       "    var cell = fig.cell_info[0];\n",
       "\n",
       "};\n",
       "\n",
       "mpl.figure.prototype.handle_close = function(fig, msg) {\n",
       "    var width = fig.canvas.width/mpl.ratio\n",
       "    fig.root.unbind('remove')\n",
       "\n",
       "    // Update the output cell to use the data from the current canvas.\n",
       "    fig.push_to_output();\n",
       "    var dataURL = fig.canvas.toDataURL();\n",
       "    // Re-enable the keyboard manager in IPython - without this line, in FF,\n",
       "    // the notebook keyboard shortcuts fail.\n",
       "    IPython.keyboard_manager.enable()\n",
       "    $(fig.parent_element).html('<img src=\"' + dataURL + '\" width=\"' + width + '\">');\n",
       "    fig.close_ws(fig, msg);\n",
       "}\n",
       "\n",
       "mpl.figure.prototype.close_ws = function(fig, msg){\n",
       "    fig.send_message('closing', msg);\n",
       "    // fig.ws.close()\n",
       "}\n",
       "\n",
       "mpl.figure.prototype.push_to_output = function(remove_interactive) {\n",
       "    // Turn the data on the canvas into data in the output cell.\n",
       "    var width = this.canvas.width/mpl.ratio\n",
       "    var dataURL = this.canvas.toDataURL();\n",
       "    this.cell_info[1]['text/html'] = '<img src=\"' + dataURL + '\" width=\"' + width + '\">';\n",
       "}\n",
       "\n",
       "mpl.figure.prototype.updated_canvas_event = function() {\n",
       "    // Tell IPython that the notebook contents must change.\n",
       "    IPython.notebook.set_dirty(true);\n",
       "    this.send_message(\"ack\", {});\n",
       "    var fig = this;\n",
       "    // Wait a second, then push the new image to the DOM so\n",
       "    // that it is saved nicely (might be nice to debounce this).\n",
       "    setTimeout(function () { fig.push_to_output() }, 1000);\n",
       "}\n",
       "\n",
       "mpl.figure.prototype._init_toolbar = function() {\n",
       "    var fig = this;\n",
       "\n",
       "    var nav_element = $('<div/>');\n",
       "    nav_element.attr('style', 'width: 100%');\n",
       "    this.root.append(nav_element);\n",
       "\n",
       "    // Define a callback function for later on.\n",
       "    function toolbar_event(event) {\n",
       "        return fig.toolbar_button_onclick(event['data']);\n",
       "    }\n",
       "    function toolbar_mouse_event(event) {\n",
       "        return fig.toolbar_button_onmouseover(event['data']);\n",
       "    }\n",
       "\n",
       "    for(var toolbar_ind in mpl.toolbar_items){\n",
       "        var name = mpl.toolbar_items[toolbar_ind][0];\n",
       "        var tooltip = mpl.toolbar_items[toolbar_ind][1];\n",
       "        var image = mpl.toolbar_items[toolbar_ind][2];\n",
       "        var method_name = mpl.toolbar_items[toolbar_ind][3];\n",
       "\n",
       "        if (!name) { continue; };\n",
       "\n",
       "        var button = $('<button class=\"btn btn-default\" href=\"#\" title=\"' + name + '\"><i class=\"fa ' + image + ' fa-lg\"></i></button>');\n",
       "        button.click(method_name, toolbar_event);\n",
       "        button.mouseover(tooltip, toolbar_mouse_event);\n",
       "        nav_element.append(button);\n",
       "    }\n",
       "\n",
       "    // Add the status bar.\n",
       "    var status_bar = $('<span class=\"mpl-message\" style=\"text-align:right; float: right;\"/>');\n",
       "    nav_element.append(status_bar);\n",
       "    this.message = status_bar[0];\n",
       "\n",
       "    // Add the close button to the window.\n",
       "    var buttongrp = $('<div class=\"btn-group inline pull-right\"></div>');\n",
       "    var button = $('<button class=\"btn btn-mini btn-primary\" href=\"#\" title=\"Stop Interaction\"><i class=\"fa fa-power-off icon-remove icon-large\"></i></button>');\n",
       "    button.click(function (evt) { fig.handle_close(fig, {}); } );\n",
       "    button.mouseover('Stop Interaction', toolbar_mouse_event);\n",
       "    buttongrp.append(button);\n",
       "    var titlebar = this.root.find($('.ui-dialog-titlebar'));\n",
       "    titlebar.prepend(buttongrp);\n",
       "}\n",
       "\n",
       "mpl.figure.prototype._root_extra_style = function(el){\n",
       "    var fig = this\n",
       "    el.on(\"remove\", function(){\n",
       "\tfig.close_ws(fig, {});\n",
       "    });\n",
       "}\n",
       "\n",
       "mpl.figure.prototype._canvas_extra_style = function(el){\n",
       "    // this is important to make the div 'focusable\n",
       "    el.attr('tabindex', 0)\n",
       "    // reach out to IPython and tell the keyboard manager to turn it's self\n",
       "    // off when our div gets focus\n",
       "\n",
       "    // location in version 3\n",
       "    if (IPython.notebook.keyboard_manager) {\n",
       "        IPython.notebook.keyboard_manager.register_events(el);\n",
       "    }\n",
       "    else {\n",
       "        // location in version 2\n",
       "        IPython.keyboard_manager.register_events(el);\n",
       "    }\n",
       "\n",
       "}\n",
       "\n",
       "mpl.figure.prototype._key_event_extra = function(event, name) {\n",
       "    var manager = IPython.notebook.keyboard_manager;\n",
       "    if (!manager)\n",
       "        manager = IPython.keyboard_manager;\n",
       "\n",
       "    // Check for shift+enter\n",
       "    if (event.shiftKey && event.which == 13) {\n",
       "        this.canvas_div.blur();\n",
       "        event.shiftKey = false;\n",
       "        // Send a \"J\" for go to next cell\n",
       "        event.which = 74;\n",
       "        event.keyCode = 74;\n",
       "        manager.command_mode();\n",
       "        manager.handle_keydown(event);\n",
       "    }\n",
       "}\n",
       "\n",
       "mpl.figure.prototype.handle_save = function(fig, msg) {\n",
       "    fig.ondownload(fig, null);\n",
       "}\n",
       "\n",
       "\n",
       "mpl.find_output_cell = function(html_output) {\n",
       "    // Return the cell and output element which can be found *uniquely* in the notebook.\n",
       "    // Note - this is a bit hacky, but it is done because the \"notebook_saving.Notebook\"\n",
       "    // IPython event is triggered only after the cells have been serialised, which for\n",
       "    // our purposes (turning an active figure into a static one), is too late.\n",
       "    var cells = IPython.notebook.get_cells();\n",
       "    var ncells = cells.length;\n",
       "    for (var i=0; i<ncells; i++) {\n",
       "        var cell = cells[i];\n",
       "        if (cell.cell_type === 'code'){\n",
       "            for (var j=0; j<cell.output_area.outputs.length; j++) {\n",
       "                var data = cell.output_area.outputs[j];\n",
       "                if (data.data) {\n",
       "                    // IPython >= 3 moved mimebundle to data attribute of output\n",
       "                    data = data.data;\n",
       "                }\n",
       "                if (data['text/html'] == html_output) {\n",
       "                    return [cell, data, j];\n",
       "                }\n",
       "            }\n",
       "        }\n",
       "    }\n",
       "}\n",
       "\n",
       "// Register the function which deals with the matplotlib target/channel.\n",
       "// The kernel may be null if the page has been refreshed.\n",
       "if (IPython.notebook.kernel != null) {\n",
       "    IPython.notebook.kernel.comm_manager.register_target('matplotlib', mpl.mpl_figure_comm);\n",
       "}\n"
      ],
      "text/plain": [
       "<IPython.core.display.Javascript object>"
      ]
     },
     "metadata": {},
     "output_type": "display_data"
    },
    {
     "data": {
      "text/html": [
       "<img src=\"data:image/png;base64,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\" width=\"639.9999861283738\">"
      ],
      "text/plain": [
       "<IPython.core.display.HTML object>"
      ]
     },
     "metadata": {},
     "output_type": "display_data"
    },
    {
     "data": {
      "text/plain": [
       "(array([  2.,   7.,  13.,  22.,  47.,  95., 134., 248., 357., 359., 418.,\n",
       "        377., 346., 247., 157.,  98.,  34.,  19.,  14.,   6.]),\n",
       " array([18.19155271, 18.36361774, 18.53568278, 18.70774782, 18.87981285,\n",
       "        19.05187789, 19.22394292, 19.39600796, 19.568073  , 19.74013803,\n",
       "        19.91220307, 20.0842681 , 20.25633314, 20.42839818, 20.60046321,\n",
       "        20.77252825, 20.94459328, 21.11665832, 21.28872336, 21.46078839,\n",
       "        21.63285343]),\n",
       " <a list of 20 Patch objects>)"
      ]
     },
     "execution_count": 10,
     "metadata": {},
     "output_type": "execute_result"
    }
   ],
   "source": [
    "plt.hist(normal,bins=20)"
   ]
  },
  {
   "cell_type": "markdown",
   "metadata": {
    "slideshow": {
     "slide_type": "slide"
    }
   },
   "source": [
    "Calculate the density function with $\\mu$, $\\sigma$, and the bin information obtained before."
   ]
  },
  {
   "cell_type": "markdown",
   "metadata": {
    "slideshow": {
     "slide_type": "slide"
    }
   },
   "source": [
    "Plot the normalized histogram (set bins = 20) along with the density function"
   ]
  },
  {
   "cell_type": "markdown",
   "metadata": {
    "slideshow": {
     "slide_type": "slide"
    }
   },
   "source": [
    "Use seaborn to visualize the distribution and plot the KDE"
   ]
  },
  {
   "cell_type": "markdown",
   "metadata": {
    "slideshow": {
     "slide_type": "slide"
    }
   },
   "source": [
    "# Standard normal distributions \n",
    "\n",
    "## Compare and contrast the normal distribution and the standard normal distribution. What is the empirical rule for the standard normal distribution? "
   ]
  },
  {
   "cell_type": "markdown",
   "metadata": {
    "slideshow": {
     "slide_type": "slide"
    }
   },
   "source": [
    "## How do you standardize a normal distribution? "
   ]
  },
  {
   "cell_type": "markdown",
   "metadata": {
    "slideshow": {
     "slide_type": "slide"
    }
   },
   "source": [
    "## Standardize the distribution you created above and use seaborn to visualize the distribution and plot the KDE"
   ]
  },
  {
   "cell_type": "markdown",
   "metadata": {
    "slideshow": {
     "slide_type": "slide"
    }
   },
   "source": [
    "# Standard score (z-score)"
   ]
  },
  {
   "cell_type": "markdown",
   "metadata": {
    "slideshow": {
     "slide_type": "slide"
    }
   },
   "source": [
    "## Why is the standard score a useful statistic? "
   ]
  },
  {
   "cell_type": "markdown",
   "metadata": {
    "slideshow": {
     "slide_type": "slide"
    }
   },
   "source": [
    "## Let's use a real-world dataset. \n",
    "\n",
    "Let's look at Combined Cycle Power Plant dataset from the [UCI Machine Learning repository](https://archive.ics.uci.edu/ml/datasets/combined+cycle+power+plant). The dataset contains 9568 observations collected from a combined cycle power plant over a period of six years. Features in the dataset consist of hourly average ambient variables Temperature (T), Ambient Pressure (AP), Relative Humidity (RH) and Exhaust Vacuum (V), and the net hourly electrical energy output (EP) of the plant. \n",
    "\n",
    "We'll look at the ambient pressure (AP) variable, which is measured in units of millibars. "
   ]
  },
  {
   "cell_type": "markdown",
   "metadata": {
    "slideshow": {
     "slide_type": "slide"
    }
   },
   "source": [
    "Let's start by loading the data into a `pandas DataFrame` and inspecting the first five rows of the dataframe."
   ]
  },
  {
   "cell_type": "markdown",
   "metadata": {
    "slideshow": {
     "slide_type": "slide"
    }
   },
   "source": [
    "Use seaborn to visualize the distribution of the ambient pressure (`AP`) feature. Plot the KDE. "
   ]
  },
  {
   "cell_type": "markdown",
   "metadata": {
    "slideshow": {
     "slide_type": "slide"
    }
   },
   "source": [
    "**What is the mean ambient pressure? What is the standard deviation of the ambient pressure?**"
   ]
  },
  {
   "cell_type": "markdown",
   "metadata": {
    "slideshow": {
     "slide_type": "slide"
    }
   },
   "source": [
    "Standardize the ambient pressure and use seaborn to visualize the standardized distribution of the ambient pressure (set `kde = True`). \n",
    "\n",
    "What are the mean and standard deviation of standardized distribution of the ambient pressure?  "
   ]
  },
  {
   "cell_type": "markdown",
   "metadata": {
    "slideshow": {
     "slide_type": "slide"
    }
   },
   "source": [
    "**What is the z-score corresponding to an observed ambient pressure of 1025 millibars? Interpret the result.** "
   ]
  },
  {
   "cell_type": "code",
   "execution_count": null,
   "metadata": {},
   "outputs": [],
   "source": []
  },
  {
   "cell_type": "markdown",
   "metadata": {
    "slideshow": {
     "slide_type": "slide"
    }
   },
   "source": [
    "**Suppose an observation of ambient pressure has a z-score of -2. Interpret this z-score. What is the observed ambient pressure?**"
   ]
  },
  {
   "cell_type": "markdown",
   "metadata": {
    "slideshow": {
     "slide_type": "slide"
    }
   },
   "source": [
    "# Statistical Testing with z-scores and p-values "
   ]
  },
  {
   "cell_type": "markdown",
   "metadata": {
    "slideshow": {
     "slide_type": "slide"
    }
   },
   "source": [
    "## What makes a sample representative of a population? "
   ]
  },
  {
   "cell_type": "markdown",
   "metadata": {
    "slideshow": {
     "slide_type": "slide"
    }
   },
   "source": [
    "## What is the probability of a z-score being less than 0? \n",
    "\n",
    "Hint: Look at the image below.\n",
    "\n",
    "<img src=\"images/cumprob.png\" width=\"500\">\n",
    "\n"
   ]
  },
  {
   "cell_type": "markdown",
   "metadata": {
    "slideshow": {
     "slide_type": "slide"
    }
   },
   "source": [
    "## Let's go back to the Combined Cycle Power Plant dataset\n",
    "\n",
    "Assume that the combined cycle power plant dataset represents data that spans all the time period the plant was operational.  \n",
    "\n",
    "**What is the probability of observing an ambient pressure less than 1001.4 millibars?**"
   ]
  },
  {
   "cell_type": "markdown",
   "metadata": {
    "slideshow": {
     "slide_type": "slide"
    }
   },
   "source": [
    "**What is the probability of observing an ambient pressure greater than or equal to 1010 millibars?**"
   ]
  },
  {
   "cell_type": "markdown",
   "metadata": {
    "slideshow": {
     "slide_type": "slide"
    }
   },
   "source": [
    "## What is a statistical hypothesis? What is hypothesis testing?"
   ]
  },
  {
   "cell_type": "markdown",
   "metadata": {
    "slideshow": {
     "slide_type": "slide"
    }
   },
   "source": [
    "## When are one-sample z-tests used?"
   ]
  },
  {
   "cell_type": "markdown",
   "metadata": {
    "slideshow": {
     "slide_type": "slide"
    }
   },
   "source": [
    "## Let's perform one-sample z-tests!\n",
    "\n",
    "Recall the test statistic for a one-sample z-test is the z-statistic: \n",
    "\n",
    "$$ \\large \\text{z-statistic} = \\dfrac{\\bar x - \\mu_0}{{\\sigma}/{\\sqrt{n}}} $$\n",
    "\n",
    "* $\\bar x$ is your sample mean\n",
    "* $n$ is the number of items in your sample \n",
    "* $\\sigma$ is the population standard deviation\n",
    "* $\\mu_0$ is the population mean\n",
    "\n",
    "The z-statistic differs from the standard score formula: we divide the standard deviation by the square root of $n$ to reflect that we are dealing with the _sample variance_. "
   ]
  },
  {
   "cell_type": "markdown",
   "metadata": {
    "slideshow": {
     "slide_type": "slide"
    }
   },
   "source": [
    "Imagine we have measured the blood pressure for a population of individuals. The average blood pressure for this population is 72.5 mm Hg, with a standard deviation of 12.5 mm Hg. \n",
    "\n",
    "We then measure the blood pressure of 30 other individuals. Here are the observed blood pressures (in units of mm Hg): \n",
    "\n",
    "`62.9, 66.2, 65.0, 84.7, 68.2, 73.1, 68.3, 57.6, 65.8, 67.8, 54.0, 66.8, 56.4, 54.3, 48.3, \n",
    "73.9, 62.2, 53.0, 52.2, 74.5, 66.1, 66.7, 77.7, 73.6, 76.5, 64.2, 59.5, 66.1, 58.3, 64.9`\n",
    "\n",
    "We want to know if the average blood pressure of these 30 individuals is __significantly lower__ than the population's average blood pressure, at a significance level of $\\alpha$ = 0.05."
   ]
  },
  {
   "cell_type": "markdown",
   "metadata": {
    "slideshow": {
     "slide_type": "slide"
    }
   },
   "source": [
    "State the null and alternative hypotheses for this problem."
   ]
  },
  {
   "cell_type": "markdown",
   "metadata": {
    "slideshow": {
     "slide_type": "slide"
    }
   },
   "source": [
    "Perform a one-sample z-test. Interpret the result of the test. "
   ]
  },
  {
   "cell_type": "markdown",
   "metadata": {
    "slideshow": {
     "slide_type": "slide"
    }
   },
   "source": [
    "Now, we want to know if the average blood pressure of these 30 individuals' blood pressure measurements is significantly **different** than the population's average blood pressure, at a significance threshold of $\\alpha$ = 0.05."
   ]
  },
  {
   "cell_type": "markdown",
   "metadata": {
    "slideshow": {
     "slide_type": "slide"
    }
   },
   "source": [
    "State the null and alternative hypothesis: "
   ]
  },
  {
   "cell_type": "markdown",
   "metadata": {
    "slideshow": {
     "slide_type": "slide"
    }
   },
   "source": [
    "Perform a one-sample z-test. Interpret the results of the test. "
   ]
  },
  {
   "cell_type": "markdown",
   "metadata": {
    "slideshow": {
     "slide_type": "slide"
    }
   },
   "source": [
    "## What is a p-value? What is the importance of $\\alpha$, the significance threshold, in hypothesis testing? "
   ]
  },
  {
   "cell_type": "markdown",
   "metadata": {
    "slideshow": {
     "slide_type": "slide"
    }
   },
   "source": [
    "## Summary"
   ]
  },
  {
   "cell_type": "markdown",
   "metadata": {
    "slideshow": {
     "slide_type": "slide"
    }
   },
   "source": [
    "### Key Takeaways: \n",
    "\n",
    "* Normal distributions are characterized by two parameters: the mean, $\\mu$, and standard deviation, $\\sigma$. Normal distributions are symmetric about the mean. The standard normal distribution is a special case of the normal distribution where $\\mu = 0$ and $\\sigma = 1$. Any normal distribution can be standardized by subtracting the mean $\\mu$ from each value and dividing each value by the standard deviation $\\sigma$. "
   ]
  },
  {
   "cell_type": "markdown",
   "metadata": {
    "slideshow": {
     "slide_type": "slide"
    }
   },
   "source": [
    "* The z-score tells us how many standard deviations above or below the mean an observation is. z-scores allow us to compare scores from different normal distributions. \n",
    "\n",
    "$$\\large \\text{z} = \\frac{x - \\mu}{\\sigma}$$ \n",
    "\n",
    "* z-scores and probabilities: \n",
    "    * To compute the probability of obtaining a z-score less than a given value z, use `scipy.stats.norm.cdf(z)`. \n",
    "    * To compute the probability of obtaining a z-score greater than or equal to a given value z, use `1 - scipy.stats.norm.cdf(z)`."
   ]
  },
  {
   "cell_type": "markdown",
   "metadata": {
    "slideshow": {
     "slide_type": "slide"
    }
   },
   "source": [
    "* Samples are representative of populations when they accurately reflect the members of the entire population. \n",
    "\n",
    "* A statistical hypothesis is an assumption about a population parameter. There are two types of hypotheses: null and alternative hypotheses. You set a null hypothesis, draw a sample, and test your null hypothesis based on that sample.\n",
    "\n",
    "* A p-value is the probability of observing a test statistic as extreme as some value, assuming the null hypothesis is true.  \n",
    "    * **A p-value answers the question: what are the chances of getting your result if the null hypothesis is true?**"
   ]
  },
  {
   "cell_type": "markdown",
   "metadata": {
    "slideshow": {
     "slide_type": "slide"
    }
   },
   "source": [
    "* The one-sample z-test is used when you want to know if your sample comes from a particular population. The one-sample z-test is used only for tests related to the sample mean. The test statistic of one-sample z-tests is called the z-statistic. \n",
    "\n",
    "* When performing hypothesis tests, we either have enough evidence or do not have enough evidence to reject the null hypothesis in favor of the alternative, depending on the significance level $\\alpha$ chosen. "
   ]
  }
 ],
 "metadata": {
  "celltoolbar": "Slideshow",
  "kernelspec": {
   "display_name": "Python 3",
   "language": "python",
   "name": "python3"
  },
  "language_info": {
   "codemirror_mode": {
    "name": "ipython",
    "version": 3
   },
   "file_extension": ".py",
   "mimetype": "text/x-python",
   "name": "python",
   "nbconvert_exporter": "python",
   "pygments_lexer": "ipython3",
   "version": "3.7.3"
  },
  "toc": {
   "base_numbering": 1,
   "nav_menu": {},
   "number_sections": true,
   "sideBar": true,
   "skip_h1_title": false,
   "title_cell": "Table of Contents",
   "title_sidebar": "Contents",
   "toc_cell": false,
   "toc_position": {},
   "toc_section_display": true,
   "toc_window_display": false
  }
 },
 "nbformat": 4,
 "nbformat_minor": 2
}
